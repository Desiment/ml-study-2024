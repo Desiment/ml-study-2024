{
 "cells": [
  {
   "cell_type": "markdown",
   "metadata": {},
   "source": [
    "# ДЗ №1. Разведочный  анализ\n",
    "\n",
    "**ФИО**: Михайлов Михаил Дмитриевич  \n",
    "**Группа**: 24.М41-мм (магистратура по направлению \"Математическое обеспечение и администрирование информационных систем\")  \n",
    "**Дата сдачи**: 17.11.24  \n"
   ]
  },
  {
   "cell_type": "markdown",
   "metadata": {},
   "source": [
    "## 1. Чтение и ознакомление с данными\n",
    "\n",
    "В качестве датасета взяты данные о пассажирах титаника. Источник: [Kaggle](https://www.kaggle.com/competitions/titanic)."
   ]
  },
  {
   "cell_type": "code",
   "execution_count": 1,
   "metadata": {
    "execution": {
     "iopub.execute_input": "2024-11-17T11:02:16.747444Z",
     "iopub.status.busy": "2024-11-17T11:02:16.746980Z",
     "iopub.status.idle": "2024-11-17T11:02:30.707060Z",
     "shell.execute_reply": "2024-11-17T11:02:30.705361Z",
     "shell.execute_reply.started": "2024-11-17T11:02:16.747402Z"
    },
    "trusted": true
   },
   "outputs": [],
   "source": [
    "# imports\n",
    "import numpy as np # linear algebra\n",
    "import pandas as pd # data processing, CSV file I/O (e.g. pd.read_csv)\n",
    "import scipy.stats as stats\n",
    "import matplotlib.pyplot as plt\n",
    "import seaborn as sns \n",
    "\n",
    "# typing\n",
    "from numpy.typing import ArrayLike\n",
    "from typing import Tuple, Optional, Literal\n"
   ]
  },
  {
   "cell_type": "markdown",
   "metadata": {
    "execution": {
     "iopub.execute_input": "2024-11-17T08:16:19.016439Z",
     "iopub.status.busy": "2024-11-17T08:16:19.015382Z",
     "iopub.status.idle": "2024-11-17T08:16:19.023228Z",
     "shell.execute_reply": "2024-11-17T08:16:19.021859Z",
     "shell.execute_reply.started": "2024-11-17T08:16:19.016393Z"
    }
   },
   "source": [
    "Прочитаем данные и посмотрим какие есть признаки:"
   ]
  },
  {
   "cell_type": "code",
   "execution_count": 2,
   "metadata": {
    "execution": {
     "iopub.execute_input": "2024-11-17T10:38:34.928733Z",
     "iopub.status.busy": "2024-11-17T10:38:34.928188Z",
     "iopub.status.idle": "2024-11-17T10:38:34.979100Z",
     "shell.execute_reply": "2024-11-17T10:38:34.977843Z",
     "shell.execute_reply.started": "2024-11-17T10:38:34.928689Z"
    },
    "trusted": true
   },
   "outputs": [
    {
     "data": {
      "text/html": [
       "<div>\n",
       "<style scoped>\n",
       "    .dataframe tbody tr th:only-of-type {\n",
       "        vertical-align: middle;\n",
       "    }\n",
       "\n",
       "    .dataframe tbody tr th {\n",
       "        vertical-align: top;\n",
       "    }\n",
       "\n",
       "    .dataframe thead th {\n",
       "        text-align: right;\n",
       "    }\n",
       "</style>\n",
       "<table border=\"1\" class=\"dataframe\">\n",
       "  <thead>\n",
       "    <tr style=\"text-align: right;\">\n",
       "      <th></th>\n",
       "      <th>PassengerId</th>\n",
       "      <th>Survived</th>\n",
       "      <th>Pclass</th>\n",
       "      <th>Name</th>\n",
       "      <th>Sex</th>\n",
       "      <th>Age</th>\n",
       "      <th>SibSp</th>\n",
       "      <th>Parch</th>\n",
       "      <th>Ticket</th>\n",
       "      <th>Fare</th>\n",
       "      <th>Cabin</th>\n",
       "      <th>Embarked</th>\n",
       "    </tr>\n",
       "  </thead>\n",
       "  <tbody>\n",
       "    <tr>\n",
       "      <th>0</th>\n",
       "      <td>1</td>\n",
       "      <td>0</td>\n",
       "      <td>3</td>\n",
       "      <td>Braund, Mr. Owen Harris</td>\n",
       "      <td>male</td>\n",
       "      <td>22.0</td>\n",
       "      <td>1</td>\n",
       "      <td>0</td>\n",
       "      <td>A/5 21171</td>\n",
       "      <td>7.2500</td>\n",
       "      <td>NaN</td>\n",
       "      <td>S</td>\n",
       "    </tr>\n",
       "    <tr>\n",
       "      <th>1</th>\n",
       "      <td>2</td>\n",
       "      <td>1</td>\n",
       "      <td>1</td>\n",
       "      <td>Cumings, Mrs. John Bradley (Florence Briggs Th...</td>\n",
       "      <td>female</td>\n",
       "      <td>38.0</td>\n",
       "      <td>1</td>\n",
       "      <td>0</td>\n",
       "      <td>PC 17599</td>\n",
       "      <td>71.2833</td>\n",
       "      <td>C85</td>\n",
       "      <td>C</td>\n",
       "    </tr>\n",
       "    <tr>\n",
       "      <th>2</th>\n",
       "      <td>3</td>\n",
       "      <td>1</td>\n",
       "      <td>3</td>\n",
       "      <td>Heikkinen, Miss. Laina</td>\n",
       "      <td>female</td>\n",
       "      <td>26.0</td>\n",
       "      <td>0</td>\n",
       "      <td>0</td>\n",
       "      <td>STON/O2. 3101282</td>\n",
       "      <td>7.9250</td>\n",
       "      <td>NaN</td>\n",
       "      <td>S</td>\n",
       "    </tr>\n",
       "    <tr>\n",
       "      <th>3</th>\n",
       "      <td>4</td>\n",
       "      <td>1</td>\n",
       "      <td>1</td>\n",
       "      <td>Futrelle, Mrs. Jacques Heath (Lily May Peel)</td>\n",
       "      <td>female</td>\n",
       "      <td>35.0</td>\n",
       "      <td>1</td>\n",
       "      <td>0</td>\n",
       "      <td>113803</td>\n",
       "      <td>53.1000</td>\n",
       "      <td>C123</td>\n",
       "      <td>S</td>\n",
       "    </tr>\n",
       "    <tr>\n",
       "      <th>4</th>\n",
       "      <td>5</td>\n",
       "      <td>0</td>\n",
       "      <td>3</td>\n",
       "      <td>Allen, Mr. William Henry</td>\n",
       "      <td>male</td>\n",
       "      <td>35.0</td>\n",
       "      <td>0</td>\n",
       "      <td>0</td>\n",
       "      <td>373450</td>\n",
       "      <td>8.0500</td>\n",
       "      <td>NaN</td>\n",
       "      <td>S</td>\n",
       "    </tr>\n",
       "  </tbody>\n",
       "</table>\n",
       "</div>"
      ],
      "text/plain": [
       "   PassengerId  Survived  Pclass  \\\n",
       "0            1         0       3   \n",
       "1            2         1       1   \n",
       "2            3         1       3   \n",
       "3            4         1       1   \n",
       "4            5         0       3   \n",
       "\n",
       "                                                Name     Sex   Age  SibSp  \\\n",
       "0                            Braund, Mr. Owen Harris    male  22.0      1   \n",
       "1  Cumings, Mrs. John Bradley (Florence Briggs Th...  female  38.0      1   \n",
       "2                             Heikkinen, Miss. Laina  female  26.0      0   \n",
       "3       Futrelle, Mrs. Jacques Heath (Lily May Peel)  female  35.0      1   \n",
       "4                           Allen, Mr. William Henry    male  35.0      0   \n",
       "\n",
       "   Parch            Ticket     Fare Cabin Embarked  \n",
       "0      0         A/5 21171   7.2500   NaN        S  \n",
       "1      0          PC 17599  71.2833   C85        C  \n",
       "2      0  STON/O2. 3101282   7.9250   NaN        S  \n",
       "3      0            113803  53.1000  C123        S  \n",
       "4      0            373450   8.0500   NaN        S  "
      ]
     },
     "execution_count": 2,
     "metadata": {},
     "output_type": "execute_result"
    }
   ],
   "source": [
    "df = pd.read_csv('../data/titanic.csv')\n",
    "df.head()"
   ]
  },
  {
   "cell_type": "markdown",
   "metadata": {},
   "source": [
    "- ``PassengerID``: уникальный ID пассажира. Нужен для проверяющей системы\n",
    "- ``Survived``: статус пассажира (пережил кораблекрушение или нет)\n",
    "- ``Pclass``: класс пассажира (первый, второй и третий)\n",
    "- ``Name``, ``Sex``, ``Age``: имя, возраст и пол\n",
    "- ``SibSp``, ``Parch``: число братьев и сестер на корабле, число родителей/детей для данного пассажира\n",
    "- ``Ticket``, ``Fare``: --- билет, стоимость проезда\n",
    "- ``Cabin``: номер кабины\n",
    "- ``Embarked``: --- порт отправления"
   ]
  },
  {
   "cell_type": "markdown",
   "metadata": {},
   "source": [
    "Задача, которую хочется здесь решать --- задача бинарной классификации. На основании информации о пассажире вывести значение метки ``Survived`` для этого пассажира.\n",
    "Посмотрим на колонки поподробнее:"
   ]
  },
  {
   "cell_type": "code",
   "execution_count": 3,
   "metadata": {
    "execution": {
     "iopub.execute_input": "2024-11-17T10:38:34.980785Z",
     "iopub.status.busy": "2024-11-17T10:38:34.980367Z",
     "iopub.status.idle": "2024-11-17T10:38:35.009883Z",
     "shell.execute_reply": "2024-11-17T10:38:35.008657Z",
     "shell.execute_reply.started": "2024-11-17T10:38:34.980745Z"
    },
    "trusted": true
   },
   "outputs": [
    {
     "name": "stdout",
     "output_type": "stream",
     "text": [
      "<class 'pandas.core.frame.DataFrame'>\n",
      "RangeIndex: 891 entries, 0 to 890\n",
      "Data columns (total 12 columns):\n",
      " #   Column       Non-Null Count  Dtype  \n",
      "---  ------       --------------  -----  \n",
      " 0   PassengerId  891 non-null    int64  \n",
      " 1   Survived     891 non-null    int64  \n",
      " 2   Pclass       891 non-null    int64  \n",
      " 3   Name         891 non-null    object \n",
      " 4   Sex          891 non-null    object \n",
      " 5   Age          714 non-null    float64\n",
      " 6   SibSp        891 non-null    int64  \n",
      " 7   Parch        891 non-null    int64  \n",
      " 8   Ticket       891 non-null    object \n",
      " 9   Fare         891 non-null    float64\n",
      " 10  Cabin        204 non-null    object \n",
      " 11  Embarked     889 non-null    object \n",
      "dtypes: float64(2), int64(5), object(5)\n",
      "memory usage: 83.7+ KB\n"
     ]
    }
   ],
   "source": [
    "df.info(verbose = True)"
   ]
  },
  {
   "cell_type": "markdown",
   "metadata": {},
   "source": [
    "Итого:\n",
    "- 2 пропуска в колонке ``Embarked``\n",
    "- 177 пропусков в колонке ``Age``\n",
    "- 687 пропусков в колонке ``Cabin``"
   ]
  },
  {
   "cell_type": "markdown",
   "metadata": {},
   "source": [
    "Посмотрим на числовые колонки:"
   ]
  },
  {
   "cell_type": "code",
   "execution_count": 4,
   "metadata": {
    "execution": {
     "iopub.execute_input": "2024-11-17T10:38:35.012819Z",
     "iopub.status.busy": "2024-11-17T10:38:35.012396Z",
     "iopub.status.idle": "2024-11-17T10:38:35.050440Z",
     "shell.execute_reply": "2024-11-17T10:38:35.049316Z",
     "shell.execute_reply.started": "2024-11-17T10:38:35.012778Z"
    },
    "trusted": true
   },
   "outputs": [
    {
     "data": {
      "text/html": [
       "<div>\n",
       "<style scoped>\n",
       "    .dataframe tbody tr th:only-of-type {\n",
       "        vertical-align: middle;\n",
       "    }\n",
       "\n",
       "    .dataframe tbody tr th {\n",
       "        vertical-align: top;\n",
       "    }\n",
       "\n",
       "    .dataframe thead th {\n",
       "        text-align: right;\n",
       "    }\n",
       "</style>\n",
       "<table border=\"1\" class=\"dataframe\">\n",
       "  <thead>\n",
       "    <tr style=\"text-align: right;\">\n",
       "      <th></th>\n",
       "      <th>PassengerId</th>\n",
       "      <th>Survived</th>\n",
       "      <th>Pclass</th>\n",
       "      <th>Age</th>\n",
       "      <th>SibSp</th>\n",
       "      <th>Parch</th>\n",
       "      <th>Fare</th>\n",
       "    </tr>\n",
       "  </thead>\n",
       "  <tbody>\n",
       "    <tr>\n",
       "      <th>count</th>\n",
       "      <td>891.000000</td>\n",
       "      <td>891.000000</td>\n",
       "      <td>891.000000</td>\n",
       "      <td>714.000000</td>\n",
       "      <td>891.000000</td>\n",
       "      <td>891.000000</td>\n",
       "      <td>891.000000</td>\n",
       "    </tr>\n",
       "    <tr>\n",
       "      <th>mean</th>\n",
       "      <td>446.000000</td>\n",
       "      <td>0.383838</td>\n",
       "      <td>2.308642</td>\n",
       "      <td>29.699118</td>\n",
       "      <td>0.523008</td>\n",
       "      <td>0.381594</td>\n",
       "      <td>32.204208</td>\n",
       "    </tr>\n",
       "    <tr>\n",
       "      <th>std</th>\n",
       "      <td>257.353842</td>\n",
       "      <td>0.486592</td>\n",
       "      <td>0.836071</td>\n",
       "      <td>14.526497</td>\n",
       "      <td>1.102743</td>\n",
       "      <td>0.806057</td>\n",
       "      <td>49.693429</td>\n",
       "    </tr>\n",
       "    <tr>\n",
       "      <th>min</th>\n",
       "      <td>1.000000</td>\n",
       "      <td>0.000000</td>\n",
       "      <td>1.000000</td>\n",
       "      <td>0.420000</td>\n",
       "      <td>0.000000</td>\n",
       "      <td>0.000000</td>\n",
       "      <td>0.000000</td>\n",
       "    </tr>\n",
       "    <tr>\n",
       "      <th>25%</th>\n",
       "      <td>223.500000</td>\n",
       "      <td>0.000000</td>\n",
       "      <td>2.000000</td>\n",
       "      <td>20.125000</td>\n",
       "      <td>0.000000</td>\n",
       "      <td>0.000000</td>\n",
       "      <td>7.910400</td>\n",
       "    </tr>\n",
       "    <tr>\n",
       "      <th>50%</th>\n",
       "      <td>446.000000</td>\n",
       "      <td>0.000000</td>\n",
       "      <td>3.000000</td>\n",
       "      <td>28.000000</td>\n",
       "      <td>0.000000</td>\n",
       "      <td>0.000000</td>\n",
       "      <td>14.454200</td>\n",
       "    </tr>\n",
       "    <tr>\n",
       "      <th>75%</th>\n",
       "      <td>668.500000</td>\n",
       "      <td>1.000000</td>\n",
       "      <td>3.000000</td>\n",
       "      <td>38.000000</td>\n",
       "      <td>1.000000</td>\n",
       "      <td>0.000000</td>\n",
       "      <td>31.000000</td>\n",
       "    </tr>\n",
       "    <tr>\n",
       "      <th>max</th>\n",
       "      <td>891.000000</td>\n",
       "      <td>1.000000</td>\n",
       "      <td>3.000000</td>\n",
       "      <td>80.000000</td>\n",
       "      <td>8.000000</td>\n",
       "      <td>6.000000</td>\n",
       "      <td>512.329200</td>\n",
       "    </tr>\n",
       "  </tbody>\n",
       "</table>\n",
       "</div>"
      ],
      "text/plain": [
       "       PassengerId    Survived      Pclass         Age       SibSp  \\\n",
       "count   891.000000  891.000000  891.000000  714.000000  891.000000   \n",
       "mean    446.000000    0.383838    2.308642   29.699118    0.523008   \n",
       "std     257.353842    0.486592    0.836071   14.526497    1.102743   \n",
       "min       1.000000    0.000000    1.000000    0.420000    0.000000   \n",
       "25%     223.500000    0.000000    2.000000   20.125000    0.000000   \n",
       "50%     446.000000    0.000000    3.000000   28.000000    0.000000   \n",
       "75%     668.500000    1.000000    3.000000   38.000000    1.000000   \n",
       "max     891.000000    1.000000    3.000000   80.000000    8.000000   \n",
       "\n",
       "            Parch        Fare  \n",
       "count  891.000000  891.000000  \n",
       "mean     0.381594   32.204208  \n",
       "std      0.806057   49.693429  \n",
       "min      0.000000    0.000000  \n",
       "25%      0.000000    7.910400  \n",
       "50%      0.000000   14.454200  \n",
       "75%      0.000000   31.000000  \n",
       "max      6.000000  512.329200  "
      ]
     },
     "execution_count": 4,
     "metadata": {},
     "output_type": "execute_result"
    }
   ],
   "source": [
    "df.describe()"
   ]
  },
  {
   "cell_type": "markdown",
   "metadata": {
    "execution": {
     "iopub.execute_input": "2024-11-17T08:26:08.681346Z",
     "iopub.status.busy": "2024-11-17T08:26:08.680927Z",
     "iopub.status.idle": "2024-11-17T08:26:08.689186Z",
     "shell.execute_reply": "2024-11-17T08:26:08.687790Z",
     "shell.execute_reply.started": "2024-11-17T08:26:08.681309Z"
    }
   },
   "source": [
    "Средний возраст пассажира - 29.6 лет, априорные шансы на выживание: 38%.  \n",
    "Стоимость проезда составляла в среднем 32 у.е., при этом были пассажиры, которые не заплатили за проезд, и пассажиры которые заплатили больше 500 у.е."
   ]
  },
  {
   "cell_type": "markdown",
   "metadata": {},
   "source": [
    "## 2. Подготовка датасета."
   ]
  },
  {
   "cell_type": "markdown",
   "metadata": {},
   "source": [
    "Порядок такой:\n",
    "1. Всякие мелочи --- переименование колонок, выставление правильных типов.\n",
    "2. Создание новых признаков. \n",
    "3. Работа с пропущенными значениями (data cleaning)\n"
   ]
  },
  {
   "cell_type": "markdown",
   "metadata": {},
   "source": [
    "### 2.1 Всякие мелочи\n",
    "1. Переименование колонок.\n",
    "2. Удаление колонки ID.\n",
    "3. Выставление правильных типов у колонок. "
   ]
  },
  {
   "cell_type": "code",
   "execution_count": 5,
   "metadata": {
    "execution": {
     "iopub.execute_input": "2024-11-17T10:38:35.053006Z",
     "iopub.status.busy": "2024-11-17T10:38:35.052100Z",
     "iopub.status.idle": "2024-11-17T10:38:35.072732Z",
     "shell.execute_reply": "2024-11-17T10:38:35.071482Z",
     "shell.execute_reply.started": "2024-11-17T10:38:35.052948Z"
    },
    "trusted": true
   },
   "outputs": [
    {
     "data": {
      "text/html": [
       "<div>\n",
       "<style scoped>\n",
       "    .dataframe tbody tr th:only-of-type {\n",
       "        vertical-align: middle;\n",
       "    }\n",
       "\n",
       "    .dataframe tbody tr th {\n",
       "        vertical-align: top;\n",
       "    }\n",
       "\n",
       "    .dataframe thead th {\n",
       "        text-align: right;\n",
       "    }\n",
       "</style>\n",
       "<table border=\"1\" class=\"dataframe\">\n",
       "  <thead>\n",
       "    <tr style=\"text-align: right;\">\n",
       "      <th></th>\n",
       "      <th>passengerid</th>\n",
       "      <th>survived</th>\n",
       "      <th>pclass</th>\n",
       "      <th>name</th>\n",
       "      <th>sex</th>\n",
       "      <th>age</th>\n",
       "      <th>sibsp</th>\n",
       "      <th>parch</th>\n",
       "      <th>ticket</th>\n",
       "      <th>fare</th>\n",
       "      <th>cabin</th>\n",
       "      <th>embarked</th>\n",
       "    </tr>\n",
       "  </thead>\n",
       "  <tbody>\n",
       "    <tr>\n",
       "      <th>0</th>\n",
       "      <td>1</td>\n",
       "      <td>0</td>\n",
       "      <td>3</td>\n",
       "      <td>Braund, Mr. Owen Harris</td>\n",
       "      <td>male</td>\n",
       "      <td>22.0</td>\n",
       "      <td>1</td>\n",
       "      <td>0</td>\n",
       "      <td>A/5 21171</td>\n",
       "      <td>7.2500</td>\n",
       "      <td>NaN</td>\n",
       "      <td>S</td>\n",
       "    </tr>\n",
       "    <tr>\n",
       "      <th>1</th>\n",
       "      <td>2</td>\n",
       "      <td>1</td>\n",
       "      <td>1</td>\n",
       "      <td>Cumings, Mrs. John Bradley (Florence Briggs Th...</td>\n",
       "      <td>female</td>\n",
       "      <td>38.0</td>\n",
       "      <td>1</td>\n",
       "      <td>0</td>\n",
       "      <td>PC 17599</td>\n",
       "      <td>71.2833</td>\n",
       "      <td>C85</td>\n",
       "      <td>C</td>\n",
       "    </tr>\n",
       "    <tr>\n",
       "      <th>2</th>\n",
       "      <td>3</td>\n",
       "      <td>1</td>\n",
       "      <td>3</td>\n",
       "      <td>Heikkinen, Miss. Laina</td>\n",
       "      <td>female</td>\n",
       "      <td>26.0</td>\n",
       "      <td>0</td>\n",
       "      <td>0</td>\n",
       "      <td>STON/O2. 3101282</td>\n",
       "      <td>7.9250</td>\n",
       "      <td>NaN</td>\n",
       "      <td>S</td>\n",
       "    </tr>\n",
       "    <tr>\n",
       "      <th>3</th>\n",
       "      <td>4</td>\n",
       "      <td>1</td>\n",
       "      <td>1</td>\n",
       "      <td>Futrelle, Mrs. Jacques Heath (Lily May Peel)</td>\n",
       "      <td>female</td>\n",
       "      <td>35.0</td>\n",
       "      <td>1</td>\n",
       "      <td>0</td>\n",
       "      <td>113803</td>\n",
       "      <td>53.1000</td>\n",
       "      <td>C123</td>\n",
       "      <td>S</td>\n",
       "    </tr>\n",
       "    <tr>\n",
       "      <th>4</th>\n",
       "      <td>5</td>\n",
       "      <td>0</td>\n",
       "      <td>3</td>\n",
       "      <td>Allen, Mr. William Henry</td>\n",
       "      <td>male</td>\n",
       "      <td>35.0</td>\n",
       "      <td>0</td>\n",
       "      <td>0</td>\n",
       "      <td>373450</td>\n",
       "      <td>8.0500</td>\n",
       "      <td>NaN</td>\n",
       "      <td>S</td>\n",
       "    </tr>\n",
       "  </tbody>\n",
       "</table>\n",
       "</div>"
      ],
      "text/plain": [
       "   passengerid  survived  pclass  \\\n",
       "0            1         0       3   \n",
       "1            2         1       1   \n",
       "2            3         1       3   \n",
       "3            4         1       1   \n",
       "4            5         0       3   \n",
       "\n",
       "                                                name     sex   age  sibsp  \\\n",
       "0                            Braund, Mr. Owen Harris    male  22.0      1   \n",
       "1  Cumings, Mrs. John Bradley (Florence Briggs Th...  female  38.0      1   \n",
       "2                             Heikkinen, Miss. Laina  female  26.0      0   \n",
       "3       Futrelle, Mrs. Jacques Heath (Lily May Peel)  female  35.0      1   \n",
       "4                           Allen, Mr. William Henry    male  35.0      0   \n",
       "\n",
       "   parch            ticket     fare cabin embarked  \n",
       "0      0         A/5 21171   7.2500   NaN        S  \n",
       "1      0          PC 17599  71.2833   C85        C  \n",
       "2      0  STON/O2. 3101282   7.9250   NaN        S  \n",
       "3      0            113803  53.1000  C123        S  \n",
       "4      0            373450   8.0500   NaN        S  "
      ]
     },
     "execution_count": 5,
     "metadata": {},
     "output_type": "execute_result"
    }
   ],
   "source": [
    "# columns to lower case\n",
    "df.rename(columns = lambda x: x.lower(), inplace = True)\n",
    "df.head()"
   ]
  },
  {
   "cell_type": "markdown",
   "metadata": {},
   "source": [
    "Удалим дубликаты и ID пассажиров:"
   ]
  },
  {
   "cell_type": "code",
   "execution_count": 6,
   "metadata": {
    "execution": {
     "iopub.execute_input": "2024-11-17T10:38:35.074761Z",
     "iopub.status.busy": "2024-11-17T10:38:35.074257Z",
     "iopub.status.idle": "2024-11-17T10:38:35.092702Z",
     "shell.execute_reply": "2024-11-17T10:38:35.091376Z",
     "shell.execute_reply.started": "2024-11-17T10:38:35.074707Z"
    },
    "trusted": true
   },
   "outputs": [],
   "source": [
    "df = df.drop_duplicates()\n",
    "df.drop(columns = ['passengerid'], inplace = True)"
   ]
  },
  {
   "cell_type": "markdown",
   "metadata": {},
   "source": [
    "Конвертируем ``sex`` в бинарный признак:"
   ]
  },
  {
   "cell_type": "code",
   "execution_count": 7,
   "metadata": {
    "execution": {
     "iopub.execute_input": "2024-11-17T10:38:35.094672Z",
     "iopub.status.busy": "2024-11-17T10:38:35.094233Z",
     "iopub.status.idle": "2024-11-17T10:38:35.117981Z",
     "shell.execute_reply": "2024-11-17T10:38:35.116683Z",
     "shell.execute_reply.started": "2024-11-17T10:38:35.094619Z"
    },
    "trusted": true
   },
   "outputs": [
    {
     "data": {
      "text/html": [
       "<div>\n",
       "<style scoped>\n",
       "    .dataframe tbody tr th:only-of-type {\n",
       "        vertical-align: middle;\n",
       "    }\n",
       "\n",
       "    .dataframe tbody tr th {\n",
       "        vertical-align: top;\n",
       "    }\n",
       "\n",
       "    .dataframe thead th {\n",
       "        text-align: right;\n",
       "    }\n",
       "</style>\n",
       "<table border=\"1\" class=\"dataframe\">\n",
       "  <thead>\n",
       "    <tr style=\"text-align: right;\">\n",
       "      <th></th>\n",
       "      <th>survived</th>\n",
       "      <th>pclass</th>\n",
       "      <th>name</th>\n",
       "      <th>female</th>\n",
       "      <th>age</th>\n",
       "      <th>sibsp</th>\n",
       "      <th>parch</th>\n",
       "      <th>ticket</th>\n",
       "      <th>fare</th>\n",
       "      <th>cabin</th>\n",
       "      <th>embarked</th>\n",
       "    </tr>\n",
       "  </thead>\n",
       "  <tbody>\n",
       "    <tr>\n",
       "      <th>0</th>\n",
       "      <td>0</td>\n",
       "      <td>3</td>\n",
       "      <td>Braund, Mr. Owen Harris</td>\n",
       "      <td>0</td>\n",
       "      <td>22.0</td>\n",
       "      <td>1</td>\n",
       "      <td>0</td>\n",
       "      <td>A/5 21171</td>\n",
       "      <td>7.2500</td>\n",
       "      <td>NaN</td>\n",
       "      <td>S</td>\n",
       "    </tr>\n",
       "    <tr>\n",
       "      <th>1</th>\n",
       "      <td>1</td>\n",
       "      <td>1</td>\n",
       "      <td>Cumings, Mrs. John Bradley (Florence Briggs Th...</td>\n",
       "      <td>1</td>\n",
       "      <td>38.0</td>\n",
       "      <td>1</td>\n",
       "      <td>0</td>\n",
       "      <td>PC 17599</td>\n",
       "      <td>71.2833</td>\n",
       "      <td>C85</td>\n",
       "      <td>C</td>\n",
       "    </tr>\n",
       "    <tr>\n",
       "      <th>2</th>\n",
       "      <td>1</td>\n",
       "      <td>3</td>\n",
       "      <td>Heikkinen, Miss. Laina</td>\n",
       "      <td>1</td>\n",
       "      <td>26.0</td>\n",
       "      <td>0</td>\n",
       "      <td>0</td>\n",
       "      <td>STON/O2. 3101282</td>\n",
       "      <td>7.9250</td>\n",
       "      <td>NaN</td>\n",
       "      <td>S</td>\n",
       "    </tr>\n",
       "    <tr>\n",
       "      <th>3</th>\n",
       "      <td>1</td>\n",
       "      <td>1</td>\n",
       "      <td>Futrelle, Mrs. Jacques Heath (Lily May Peel)</td>\n",
       "      <td>1</td>\n",
       "      <td>35.0</td>\n",
       "      <td>1</td>\n",
       "      <td>0</td>\n",
       "      <td>113803</td>\n",
       "      <td>53.1000</td>\n",
       "      <td>C123</td>\n",
       "      <td>S</td>\n",
       "    </tr>\n",
       "    <tr>\n",
       "      <th>4</th>\n",
       "      <td>0</td>\n",
       "      <td>3</td>\n",
       "      <td>Allen, Mr. William Henry</td>\n",
       "      <td>0</td>\n",
       "      <td>35.0</td>\n",
       "      <td>0</td>\n",
       "      <td>0</td>\n",
       "      <td>373450</td>\n",
       "      <td>8.0500</td>\n",
       "      <td>NaN</td>\n",
       "      <td>S</td>\n",
       "    </tr>\n",
       "  </tbody>\n",
       "</table>\n",
       "</div>"
      ],
      "text/plain": [
       "   survived  pclass                                               name  \\\n",
       "0         0       3                            Braund, Mr. Owen Harris   \n",
       "1         1       1  Cumings, Mrs. John Bradley (Florence Briggs Th...   \n",
       "2         1       3                             Heikkinen, Miss. Laina   \n",
       "3         1       1       Futrelle, Mrs. Jacques Heath (Lily May Peel)   \n",
       "4         0       3                           Allen, Mr. William Henry   \n",
       "\n",
       "   female   age  sibsp  parch            ticket     fare cabin embarked  \n",
       "0       0  22.0      1      0         A/5 21171   7.2500   NaN        S  \n",
       "1       1  38.0      1      0          PC 17599  71.2833   C85        C  \n",
       "2       1  26.0      0      0  STON/O2. 3101282   7.9250   NaN        S  \n",
       "3       1  35.0      1      0            113803  53.1000  C123        S  \n",
       "4       0  35.0      0      0            373450   8.0500   NaN        S  "
      ]
     },
     "execution_count": 7,
     "metadata": {},
     "output_type": "execute_result"
    }
   ],
   "source": [
    "# convert sex to binary feature\n",
    "df['sex'] = df['sex'].replace(to_replace=['male', 'female'], value = ['0', '1']).astype(int)\n",
    "df.rename(columns={'sex':'female'}, inplace = True)\n",
    "df.head()"
   ]
  },
  {
   "cell_type": "markdown",
   "metadata": {},
   "source": [
    "Конвертируем ``pclass`` в категориальный признак (с заданным порядком)"
   ]
  },
  {
   "cell_type": "code",
   "execution_count": 8,
   "metadata": {
    "execution": {
     "iopub.execute_input": "2024-11-17T10:38:35.119818Z",
     "iopub.status.busy": "2024-11-17T10:38:35.119424Z",
     "iopub.status.idle": "2024-11-17T10:38:35.133438Z",
     "shell.execute_reply": "2024-11-17T10:38:35.132074Z",
     "shell.execute_reply.started": "2024-11-17T10:38:35.119778Z"
    },
    "trusted": true
   },
   "outputs": [],
   "source": [
    "# convert ticket class to (ordinal) categorical type\n",
    "TicketClass = [1,2,3]\n",
    "df['pclass'] = df['pclass'].astype(dtype=\"category\")\n",
    "df['pclass'] = df['pclass'].cat.reorder_categories(TicketClass, ordered=True)"
   ]
  },
  {
   "cell_type": "markdown",
   "metadata": {},
   "source": [
    "### 2.2 Создание новых признаков"
   ]
  },
  {
   "cell_type": "markdown",
   "metadata": {},
   "source": [
    "Опишем признаки, которые добавим в датасет:\n",
    "\n",
    "- Извлечем из имени информацию о семейном положении (\"женат/не женат\" и \"ребенок на судне с родителями/не ребенок\")\n",
    "- По номеру каюты извлечем уровень палубы и ее номер (нумерация примерно одинаковая на всех палубах). Каюты разделим на группы по 25 и получим категориальный признак, который кодирует информацию о том где территориально находилась каюта пассажира\n",
    "- Из номера билета сложно извлечь какую-то информацию, я ограничусь тем что сделаю бинарный признак: билет с префиксом или без."
   ]
  },
  {
   "cell_type": "code",
   "execution_count": 9,
   "metadata": {
    "execution": {
     "iopub.execute_input": "2024-11-17T10:38:35.136053Z",
     "iopub.status.busy": "2024-11-17T10:38:35.135123Z",
     "iopub.status.idle": "2024-11-17T10:38:35.147488Z",
     "shell.execute_reply": "2024-11-17T10:38:35.146182Z",
     "shell.execute_reply.started": "2024-11-17T10:38:35.135998Z"
    },
    "trusted": true
   },
   "outputs": [],
   "source": [
    "def is_married(name: str) -> int:\n",
    "    return int(('Mr.' in name) or ('Mrs.' in name))\n",
    "\n",
    "def is_child(name: str) -> int:\n",
    "    return int(('Master.' in name))\n",
    "\n",
    "def cabin_level(cabin: str) -> Literal['A', 'B', 'C', 'D', 'E', 'F', 'G', 'T']:\n",
    "    return cabin.split(' ')[0][0]\n",
    "    \n",
    "def cabin_number(cabin: str) -> str:\n",
    "    if len(cabin.split(' ')[-1]) == 1:\n",
    "        return np.nan\n",
    "    return int(cabin.split(' ')[-1][1:])\n",
    "\n",
    "def is_ticket_with_prefix(ticket: str) -> int:\n",
    "    return int(not ticket.split(' ')[0].isdigit())"
   ]
  },
  {
   "cell_type": "code",
   "execution_count": 10,
   "metadata": {
    "execution": {
     "iopub.execute_input": "2024-11-17T10:38:35.151847Z",
     "iopub.status.busy": "2024-11-17T10:38:35.151390Z",
     "iopub.status.idle": "2024-11-17T10:38:35.175544Z",
     "shell.execute_reply": "2024-11-17T10:38:35.174064Z",
     "shell.execute_reply.started": "2024-11-17T10:38:35.151807Z"
    },
    "trusted": true
   },
   "outputs": [],
   "source": [
    "# Set all values by default to NA\n",
    "df['cabin_number'] = np.nan\n",
    "df['cabin_level']  = pd.NA\n",
    "\n",
    "# Extract feautres from cabin number\n",
    "df['cabin_number'] = df[~df['cabin'].isna()]['cabin'].apply(cabin_number)\n",
    "df['cabin_level']  = df[~df['cabin'].isna()]['cabin'].apply(cabin_level).astype('category')\n",
    "\n",
    "# Set cabin level as ordinal dtype: from bottom to top\n",
    "CabinLevel = ['T', 'A', 'B', 'C', 'D', 'E', 'F', 'G']\n",
    "df['cabin_level'] = df['cabin_level'].astype(dtype=\"category\")\n",
    "df['cabin_level'] = df['cabin_level'].cat.reorder_categories(CabinLevel, ordered=True)\n",
    "\n",
    "# Group cabins by their numbers\n",
    "df['cabin_group'] = pd.cut(df['cabin_number'], bins = np.arange(0, 151, 25), labels = [f'cn_{i}_{i+25}' \\\n",
    "                                                                                       for i in np.arange(0, 150, 25)]).astype('category').cat.as_unordered()"
   ]
  },
  {
   "cell_type": "markdown",
   "metadata": {},
   "source": [
    "Добавим бинарные признаки кодирующие информацию о семейном положении:"
   ]
  },
  {
   "cell_type": "code",
   "execution_count": 11,
   "metadata": {
    "execution": {
     "iopub.execute_input": "2024-11-17T10:38:35.177851Z",
     "iopub.status.busy": "2024-11-17T10:38:35.177418Z",
     "iopub.status.idle": "2024-11-17T10:38:35.187378Z",
     "shell.execute_reply": "2024-11-17T10:38:35.186168Z",
     "shell.execute_reply.started": "2024-11-17T10:38:35.177810Z"
    },
    "trusted": true
   },
   "outputs": [],
   "source": [
    "df['child']   = df['name'].apply(is_child)\n",
    "df['married'] = df['name'].apply(is_married)"
   ]
  },
  {
   "cell_type": "markdown",
   "metadata": {},
   "source": [
    "Также добавим признак \"билет с префиксом\":"
   ]
  },
  {
   "cell_type": "code",
   "execution_count": 12,
   "metadata": {
    "execution": {
     "iopub.execute_input": "2024-11-17T10:38:35.189091Z",
     "iopub.status.busy": "2024-11-17T10:38:35.188747Z",
     "iopub.status.idle": "2024-11-17T10:38:35.200498Z",
     "shell.execute_reply": "2024-11-17T10:38:35.199393Z",
     "shell.execute_reply.started": "2024-11-17T10:38:35.189054Z"
    },
    "trusted": true
   },
   "outputs": [],
   "source": [
    "df['ticket_prefixed'] = df['ticket'].apply(is_ticket_with_prefix)"
   ]
  },
  {
   "cell_type": "markdown",
   "metadata": {},
   "source": [
    "Наконец, сделаем one-hot encoding категориальных признаков:"
   ]
  },
  {
   "cell_type": "code",
   "execution_count": 13,
   "metadata": {
    "execution": {
     "iopub.execute_input": "2024-11-17T10:38:35.202319Z",
     "iopub.status.busy": "2024-11-17T10:38:35.201878Z",
     "iopub.status.idle": "2024-11-17T10:38:35.223625Z",
     "shell.execute_reply": "2024-11-17T10:38:35.222456Z",
     "shell.execute_reply.started": "2024-11-17T10:38:35.202263Z"
    },
    "trusted": true
   },
   "outputs": [],
   "source": [
    "df = df.join(pd.get_dummies(df['embarked'], prefix = 'is_embarked_at', dtype=int))\n",
    "df = df.join(pd.get_dummies(df['cabin_level'], prefix = 'is_cabin_level', dtype=int))\n",
    "df = df.join(pd.get_dummies(df['pclass'], prefix = 'is_pclass', dtype=int))\n",
    "df = df.join(pd.get_dummies(df['cabin_group'], prefix = 'is_cabin_group', dtype=int))"
   ]
  },
  {
   "cell_type": "markdown",
   "metadata": {},
   "source": [
    "Получили:"
   ]
  },
  {
   "cell_type": "code",
   "execution_count": 14,
   "metadata": {
    "execution": {
     "iopub.execute_input": "2024-11-17T10:38:35.225460Z",
     "iopub.status.busy": "2024-11-17T10:38:35.225016Z",
     "iopub.status.idle": "2024-11-17T10:38:35.250868Z",
     "shell.execute_reply": "2024-11-17T10:38:35.249712Z",
     "shell.execute_reply.started": "2024-11-17T10:38:35.225411Z"
    },
    "trusted": true
   },
   "outputs": [
    {
     "data": {
      "text/html": [
       "<div>\n",
       "<style scoped>\n",
       "    .dataframe tbody tr th:only-of-type {\n",
       "        vertical-align: middle;\n",
       "    }\n",
       "\n",
       "    .dataframe tbody tr th {\n",
       "        vertical-align: top;\n",
       "    }\n",
       "\n",
       "    .dataframe thead th {\n",
       "        text-align: right;\n",
       "    }\n",
       "</style>\n",
       "<table border=\"1\" class=\"dataframe\">\n",
       "  <thead>\n",
       "    <tr style=\"text-align: right;\">\n",
       "      <th></th>\n",
       "      <th>survived</th>\n",
       "      <th>pclass</th>\n",
       "      <th>name</th>\n",
       "      <th>female</th>\n",
       "      <th>age</th>\n",
       "      <th>sibsp</th>\n",
       "      <th>parch</th>\n",
       "      <th>ticket</th>\n",
       "      <th>fare</th>\n",
       "      <th>cabin</th>\n",
       "      <th>...</th>\n",
       "      <th>is_cabin_level_G</th>\n",
       "      <th>is_pclass_1</th>\n",
       "      <th>is_pclass_2</th>\n",
       "      <th>is_pclass_3</th>\n",
       "      <th>is_cabin_group_cn_0_25</th>\n",
       "      <th>is_cabin_group_cn_25_50</th>\n",
       "      <th>is_cabin_group_cn_50_75</th>\n",
       "      <th>is_cabin_group_cn_75_100</th>\n",
       "      <th>is_cabin_group_cn_100_125</th>\n",
       "      <th>is_cabin_group_cn_125_150</th>\n",
       "    </tr>\n",
       "  </thead>\n",
       "  <tbody>\n",
       "    <tr>\n",
       "      <th>0</th>\n",
       "      <td>0</td>\n",
       "      <td>3</td>\n",
       "      <td>Braund, Mr. Owen Harris</td>\n",
       "      <td>0</td>\n",
       "      <td>22.0</td>\n",
       "      <td>1</td>\n",
       "      <td>0</td>\n",
       "      <td>A/5 21171</td>\n",
       "      <td>7.2500</td>\n",
       "      <td>NaN</td>\n",
       "      <td>...</td>\n",
       "      <td>0</td>\n",
       "      <td>0</td>\n",
       "      <td>0</td>\n",
       "      <td>1</td>\n",
       "      <td>0</td>\n",
       "      <td>0</td>\n",
       "      <td>0</td>\n",
       "      <td>0</td>\n",
       "      <td>0</td>\n",
       "      <td>0</td>\n",
       "    </tr>\n",
       "    <tr>\n",
       "      <th>1</th>\n",
       "      <td>1</td>\n",
       "      <td>1</td>\n",
       "      <td>Cumings, Mrs. John Bradley (Florence Briggs Th...</td>\n",
       "      <td>1</td>\n",
       "      <td>38.0</td>\n",
       "      <td>1</td>\n",
       "      <td>0</td>\n",
       "      <td>PC 17599</td>\n",
       "      <td>71.2833</td>\n",
       "      <td>C85</td>\n",
       "      <td>...</td>\n",
       "      <td>0</td>\n",
       "      <td>1</td>\n",
       "      <td>0</td>\n",
       "      <td>0</td>\n",
       "      <td>0</td>\n",
       "      <td>0</td>\n",
       "      <td>0</td>\n",
       "      <td>1</td>\n",
       "      <td>0</td>\n",
       "      <td>0</td>\n",
       "    </tr>\n",
       "    <tr>\n",
       "      <th>2</th>\n",
       "      <td>1</td>\n",
       "      <td>3</td>\n",
       "      <td>Heikkinen, Miss. Laina</td>\n",
       "      <td>1</td>\n",
       "      <td>26.0</td>\n",
       "      <td>0</td>\n",
       "      <td>0</td>\n",
       "      <td>STON/O2. 3101282</td>\n",
       "      <td>7.9250</td>\n",
       "      <td>NaN</td>\n",
       "      <td>...</td>\n",
       "      <td>0</td>\n",
       "      <td>0</td>\n",
       "      <td>0</td>\n",
       "      <td>1</td>\n",
       "      <td>0</td>\n",
       "      <td>0</td>\n",
       "      <td>0</td>\n",
       "      <td>0</td>\n",
       "      <td>0</td>\n",
       "      <td>0</td>\n",
       "    </tr>\n",
       "    <tr>\n",
       "      <th>3</th>\n",
       "      <td>1</td>\n",
       "      <td>1</td>\n",
       "      <td>Futrelle, Mrs. Jacques Heath (Lily May Peel)</td>\n",
       "      <td>1</td>\n",
       "      <td>35.0</td>\n",
       "      <td>1</td>\n",
       "      <td>0</td>\n",
       "      <td>113803</td>\n",
       "      <td>53.1000</td>\n",
       "      <td>C123</td>\n",
       "      <td>...</td>\n",
       "      <td>0</td>\n",
       "      <td>1</td>\n",
       "      <td>0</td>\n",
       "      <td>0</td>\n",
       "      <td>0</td>\n",
       "      <td>0</td>\n",
       "      <td>0</td>\n",
       "      <td>0</td>\n",
       "      <td>1</td>\n",
       "      <td>0</td>\n",
       "    </tr>\n",
       "    <tr>\n",
       "      <th>4</th>\n",
       "      <td>0</td>\n",
       "      <td>3</td>\n",
       "      <td>Allen, Mr. William Henry</td>\n",
       "      <td>0</td>\n",
       "      <td>35.0</td>\n",
       "      <td>0</td>\n",
       "      <td>0</td>\n",
       "      <td>373450</td>\n",
       "      <td>8.0500</td>\n",
       "      <td>NaN</td>\n",
       "      <td>...</td>\n",
       "      <td>0</td>\n",
       "      <td>0</td>\n",
       "      <td>0</td>\n",
       "      <td>1</td>\n",
       "      <td>0</td>\n",
       "      <td>0</td>\n",
       "      <td>0</td>\n",
       "      <td>0</td>\n",
       "      <td>0</td>\n",
       "      <td>0</td>\n",
       "    </tr>\n",
       "  </tbody>\n",
       "</table>\n",
       "<p>5 rows × 37 columns</p>\n",
       "</div>"
      ],
      "text/plain": [
       "   survived pclass                                               name  female  \\\n",
       "0         0      3                            Braund, Mr. Owen Harris       0   \n",
       "1         1      1  Cumings, Mrs. John Bradley (Florence Briggs Th...       1   \n",
       "2         1      3                             Heikkinen, Miss. Laina       1   \n",
       "3         1      1       Futrelle, Mrs. Jacques Heath (Lily May Peel)       1   \n",
       "4         0      3                           Allen, Mr. William Henry       0   \n",
       "\n",
       "    age  sibsp  parch            ticket     fare cabin  ... is_cabin_level_G  \\\n",
       "0  22.0      1      0         A/5 21171   7.2500   NaN  ...                0   \n",
       "1  38.0      1      0          PC 17599  71.2833   C85  ...                0   \n",
       "2  26.0      0      0  STON/O2. 3101282   7.9250   NaN  ...                0   \n",
       "3  35.0      1      0            113803  53.1000  C123  ...                0   \n",
       "4  35.0      0      0            373450   8.0500   NaN  ...                0   \n",
       "\n",
       "   is_pclass_1 is_pclass_2 is_pclass_3  is_cabin_group_cn_0_25  \\\n",
       "0            0           0           1                       0   \n",
       "1            1           0           0                       0   \n",
       "2            0           0           1                       0   \n",
       "3            1           0           0                       0   \n",
       "4            0           0           1                       0   \n",
       "\n",
       "   is_cabin_group_cn_25_50  is_cabin_group_cn_50_75  is_cabin_group_cn_75_100  \\\n",
       "0                        0                        0                         0   \n",
       "1                        0                        0                         1   \n",
       "2                        0                        0                         0   \n",
       "3                        0                        0                         0   \n",
       "4                        0                        0                         0   \n",
       "\n",
       "   is_cabin_group_cn_100_125  is_cabin_group_cn_125_150  \n",
       "0                          0                          0  \n",
       "1                          0                          0  \n",
       "2                          0                          0  \n",
       "3                          1                          0  \n",
       "4                          0                          0  \n",
       "\n",
       "[5 rows x 37 columns]"
      ]
     },
     "execution_count": 14,
     "metadata": {},
     "output_type": "execute_result"
    }
   ],
   "source": [
    "df.head()"
   ]
  },
  {
   "cell_type": "code",
   "execution_count": 15,
   "metadata": {
    "execution": {
     "iopub.execute_input": "2024-11-17T10:38:35.253498Z",
     "iopub.status.busy": "2024-11-17T10:38:35.252858Z",
     "iopub.status.idle": "2024-11-17T10:38:35.274050Z",
     "shell.execute_reply": "2024-11-17T10:38:35.272943Z",
     "shell.execute_reply.started": "2024-11-17T10:38:35.253434Z"
    },
    "trusted": true
   },
   "outputs": [
    {
     "name": "stdout",
     "output_type": "stream",
     "text": [
      "<class 'pandas.core.frame.DataFrame'>\n",
      "RangeIndex: 891 entries, 0 to 890\n",
      "Data columns (total 37 columns):\n",
      " #   Column                     Non-Null Count  Dtype   \n",
      "---  ------                     --------------  -----   \n",
      " 0   survived                   891 non-null    int64   \n",
      " 1   pclass                     891 non-null    category\n",
      " 2   name                       891 non-null    object  \n",
      " 3   female                     891 non-null    int32   \n",
      " 4   age                        714 non-null    float64 \n",
      " 5   sibsp                      891 non-null    int64   \n",
      " 6   parch                      891 non-null    int64   \n",
      " 7   ticket                     891 non-null    object  \n",
      " 8   fare                       891 non-null    float64 \n",
      " 9   cabin                      204 non-null    object  \n",
      " 10  embarked                   889 non-null    object  \n",
      " 11  cabin_number               200 non-null    float64 \n",
      " 12  cabin_level                204 non-null    category\n",
      " 13  cabin_group                200 non-null    category\n",
      " 14  child                      891 non-null    int64   \n",
      " 15  married                    891 non-null    int64   \n",
      " 16  ticket_prefixed            891 non-null    int64   \n",
      " 17  is_embarked_at_C           891 non-null    int32   \n",
      " 18  is_embarked_at_Q           891 non-null    int32   \n",
      " 19  is_embarked_at_S           891 non-null    int32   \n",
      " 20  is_cabin_level_T           891 non-null    int32   \n",
      " 21  is_cabin_level_A           891 non-null    int32   \n",
      " 22  is_cabin_level_B           891 non-null    int32   \n",
      " 23  is_cabin_level_C           891 non-null    int32   \n",
      " 24  is_cabin_level_D           891 non-null    int32   \n",
      " 25  is_cabin_level_E           891 non-null    int32   \n",
      " 26  is_cabin_level_F           891 non-null    int32   \n",
      " 27  is_cabin_level_G           891 non-null    int32   \n",
      " 28  is_pclass_1                891 non-null    int32   \n",
      " 29  is_pclass_2                891 non-null    int32   \n",
      " 30  is_pclass_3                891 non-null    int32   \n",
      " 31  is_cabin_group_cn_0_25     891 non-null    int32   \n",
      " 32  is_cabin_group_cn_25_50    891 non-null    int32   \n",
      " 33  is_cabin_group_cn_50_75    891 non-null    int32   \n",
      " 34  is_cabin_group_cn_75_100   891 non-null    int32   \n",
      " 35  is_cabin_group_cn_100_125  891 non-null    int32   \n",
      " 36  is_cabin_group_cn_125_150  891 non-null    int32   \n",
      "dtypes: category(3), float64(3), int32(21), int64(6), object(4)\n",
      "memory usage: 167.0+ KB\n"
     ]
    }
   ],
   "source": [
    "df.info(verbose = True)"
   ]
  },
  {
   "cell_type": "markdown",
   "metadata": {},
   "source": [
    "Несколько идей которые можно было бы реализовать, но соотношение усилие/результат не соответствуют задаче:\n",
    "1. Можно воспользоваться картой [корабля](https://www.encyclopedia-titanica.org/titanic-deckplans/b-deck.html), чтобы посчитать расстояние от каюты до лестницы в каких-то условных единицах или даже в метрах.\n",
    "2. Эту же карту можно использовать, для того чтобы создать категориальный признак \"локация кабины\"\n",
    "3. Также, можно воспользоваться картой, чтобы подсчитать расстояние от места столкновения корабля с айсбергом до каюты.\n",
    "\n",
    "\n",
    "Дальше, мы можем пытаться использовать родственные связи, чтобы генерировать признаки. Например \"*есть ребенок, который выжил*\" или \"*есть супруг/супруга которая не выжила*\". Для таких признаков необходимо подглядывать в значение целевой переменной (survived) и непонятно, хорошо ли так делать, или нет. В принципе, это проблема связанная с тем что признаки зависимы между разными пассажирами (так, логично предположить что если есть ребенок который выжил, то у его родителя шансы выжить больше, чем априорные), и непонятно как эту зависимость эксплуатировать. "
   ]
  },
  {
   "cell_type": "markdown",
   "metadata": {},
   "source": [
    "### 2.3  Очистка данных"
   ]
  },
  {
   "cell_type": "markdown",
   "metadata": {},
   "source": [
    "В качестве значения для пропущенного возраста возьмем медианный возраст пассажиров (возьмем группы по полу --- известно что пол довольно сильно влияет на значение survived, чтобы было точнее):"
   ]
  },
  {
   "cell_type": "code",
   "execution_count": 16,
   "metadata": {
    "execution": {
     "iopub.execute_input": "2024-11-17T10:38:35.275820Z",
     "iopub.status.busy": "2024-11-17T10:38:35.275389Z",
     "iopub.status.idle": "2024-11-17T10:38:35.290037Z",
     "shell.execute_reply": "2024-11-17T10:38:35.288622Z",
     "shell.execute_reply.started": "2024-11-17T10:38:35.275781Z"
    },
    "trusted": true
   },
   "outputs": [],
   "source": [
    "df.loc[(df['age'].isna()) & (df['female'] == 1), 'age'] = df[(df['female'] == 1) & (~df['age'].isna())]['age'].median()\n",
    "df.loc[(df['age'].isna()) & (df['female'] == 0), 'age'] = df[(df['female'] == 0) & (~df['age'].isna())]['age'].median()"
   ]
  },
  {
   "cell_type": "markdown",
   "metadata": {},
   "source": [
    "Пропуски в колонках ``cabin_number`` и ``cabin_level`` заполнять не будем, для них сделан one-hot encoding (можно считать что na --- отдельная категория и чтобы колонки не были линейно зависимы, мы бинарный признак ``is_cabin_level_NA`` удаляем из нашего набора данных). В принципе, можно было бы использовать KNNimmuter, или воспользоваться открытыми данными (см. ниже)"
   ]
  },
  {
   "cell_type": "code",
   "execution_count": 17,
   "metadata": {
    "execution": {
     "iopub.execute_input": "2024-11-17T10:38:35.292258Z",
     "iopub.status.busy": "2024-11-17T10:38:35.291767Z",
     "iopub.status.idle": "2024-11-17T10:38:35.319307Z",
     "shell.execute_reply": "2024-11-17T10:38:35.318112Z",
     "shell.execute_reply.started": "2024-11-17T10:38:35.292201Z"
    },
    "trusted": true
   },
   "outputs": [
    {
     "data": {
      "text/html": [
       "<div>\n",
       "<style scoped>\n",
       "    .dataframe tbody tr th:only-of-type {\n",
       "        vertical-align: middle;\n",
       "    }\n",
       "\n",
       "    .dataframe tbody tr th {\n",
       "        vertical-align: top;\n",
       "    }\n",
       "\n",
       "    .dataframe thead th {\n",
       "        text-align: right;\n",
       "    }\n",
       "</style>\n",
       "<table border=\"1\" class=\"dataframe\">\n",
       "  <thead>\n",
       "    <tr style=\"text-align: right;\">\n",
       "      <th></th>\n",
       "      <th>survived</th>\n",
       "      <th>pclass</th>\n",
       "      <th>name</th>\n",
       "      <th>female</th>\n",
       "      <th>age</th>\n",
       "      <th>sibsp</th>\n",
       "      <th>parch</th>\n",
       "      <th>ticket</th>\n",
       "      <th>fare</th>\n",
       "      <th>cabin</th>\n",
       "      <th>...</th>\n",
       "      <th>is_cabin_level_G</th>\n",
       "      <th>is_pclass_1</th>\n",
       "      <th>is_pclass_2</th>\n",
       "      <th>is_pclass_3</th>\n",
       "      <th>is_cabin_group_cn_0_25</th>\n",
       "      <th>is_cabin_group_cn_25_50</th>\n",
       "      <th>is_cabin_group_cn_50_75</th>\n",
       "      <th>is_cabin_group_cn_75_100</th>\n",
       "      <th>is_cabin_group_cn_100_125</th>\n",
       "      <th>is_cabin_group_cn_125_150</th>\n",
       "    </tr>\n",
       "  </thead>\n",
       "  <tbody>\n",
       "    <tr>\n",
       "      <th>61</th>\n",
       "      <td>1</td>\n",
       "      <td>1</td>\n",
       "      <td>Icard, Miss. Amelie</td>\n",
       "      <td>1</td>\n",
       "      <td>38.0</td>\n",
       "      <td>0</td>\n",
       "      <td>0</td>\n",
       "      <td>113572</td>\n",
       "      <td>80.0</td>\n",
       "      <td>B28</td>\n",
       "      <td>...</td>\n",
       "      <td>0</td>\n",
       "      <td>1</td>\n",
       "      <td>0</td>\n",
       "      <td>0</td>\n",
       "      <td>0</td>\n",
       "      <td>1</td>\n",
       "      <td>0</td>\n",
       "      <td>0</td>\n",
       "      <td>0</td>\n",
       "      <td>0</td>\n",
       "    </tr>\n",
       "    <tr>\n",
       "      <th>829</th>\n",
       "      <td>1</td>\n",
       "      <td>1</td>\n",
       "      <td>Stone, Mrs. George Nelson (Martha Evelyn)</td>\n",
       "      <td>1</td>\n",
       "      <td>62.0</td>\n",
       "      <td>0</td>\n",
       "      <td>0</td>\n",
       "      <td>113572</td>\n",
       "      <td>80.0</td>\n",
       "      <td>B28</td>\n",
       "      <td>...</td>\n",
       "      <td>0</td>\n",
       "      <td>1</td>\n",
       "      <td>0</td>\n",
       "      <td>0</td>\n",
       "      <td>0</td>\n",
       "      <td>1</td>\n",
       "      <td>0</td>\n",
       "      <td>0</td>\n",
       "      <td>0</td>\n",
       "      <td>0</td>\n",
       "    </tr>\n",
       "  </tbody>\n",
       "</table>\n",
       "<p>2 rows × 37 columns</p>\n",
       "</div>"
      ],
      "text/plain": [
       "     survived pclass                                       name  female   age  \\\n",
       "61          1      1                        Icard, Miss. Amelie       1  38.0   \n",
       "829         1      1  Stone, Mrs. George Nelson (Martha Evelyn)       1  62.0   \n",
       "\n",
       "     sibsp  parch  ticket  fare cabin  ... is_cabin_level_G  is_pclass_1  \\\n",
       "61       0      0  113572  80.0   B28  ...                0            1   \n",
       "829      0      0  113572  80.0   B28  ...                0            1   \n",
       "\n",
       "    is_pclass_2 is_pclass_3  is_cabin_group_cn_0_25  is_cabin_group_cn_25_50  \\\n",
       "61            0           0                       0                        1   \n",
       "829           0           0                       0                        1   \n",
       "\n",
       "     is_cabin_group_cn_50_75  is_cabin_group_cn_75_100  \\\n",
       "61                         0                         0   \n",
       "829                        0                         0   \n",
       "\n",
       "     is_cabin_group_cn_100_125  is_cabin_group_cn_125_150  \n",
       "61                           0                          0  \n",
       "829                          0                          0  \n",
       "\n",
       "[2 rows x 37 columns]"
      ]
     },
     "execution_count": 17,
     "metadata": {},
     "output_type": "execute_result"
    }
   ],
   "source": [
    "df[df['embarked'].isna()].head()"
   ]
  },
  {
   "cell_type": "markdown",
   "metadata": {
    "execution": {
     "iopub.execute_input": "2024-11-17T08:55:50.959877Z",
     "iopub.status.busy": "2024-11-17T08:55:50.958710Z",
     "iopub.status.idle": "2024-11-17T08:55:50.968108Z",
     "shell.execute_reply": "2024-11-17T08:55:50.966345Z",
     "shell.execute_reply.started": "2024-11-17T08:55:50.959832Z"
    }
   },
   "source": [
    "Согласно [данным](https://www.encyclopedia-titanica.org/titanic-survivor/martha-evelyn-stone.html) с Encyclopedia Titanica, Martha Evelyn и Icard, Miss. Amelie погрузились на титаник в Саутгемптоне. "
   ]
  },
  {
   "cell_type": "code",
   "execution_count": 18,
   "metadata": {
    "execution": {
     "iopub.execute_input": "2024-11-17T10:38:35.321391Z",
     "iopub.status.busy": "2024-11-17T10:38:35.320969Z",
     "iopub.status.idle": "2024-11-17T10:38:35.332325Z",
     "shell.execute_reply": "2024-11-17T10:38:35.331355Z",
     "shell.execute_reply.started": "2024-11-17T10:38:35.321348Z"
    },
    "trusted": true
   },
   "outputs": [],
   "source": [
    "df.loc[[61, 829], 'embarked'] = 'S'\n",
    "df.loc[[61, 829], 'is_embarked_as_S'] = 1"
   ]
  },
  {
   "cell_type": "markdown",
   "metadata": {},
   "source": [
    "Удалим колонки из которых мы уже извлекли информацию"
   ]
  },
  {
   "cell_type": "code",
   "execution_count": 19,
   "metadata": {
    "execution": {
     "iopub.execute_input": "2024-11-17T10:38:35.334557Z",
     "iopub.status.busy": "2024-11-17T10:38:35.334133Z",
     "iopub.status.idle": "2024-11-17T10:38:35.345040Z",
     "shell.execute_reply": "2024-11-17T10:38:35.343901Z",
     "shell.execute_reply.started": "2024-11-17T10:38:35.334507Z"
    },
    "trusted": true
   },
   "outputs": [],
   "source": [
    "df = df.drop(columns = ['name', 'cabin', 'ticket'])"
   ]
  },
  {
   "cell_type": "markdown",
   "metadata": {},
   "source": [
    "Получили такой датасет:"
   ]
  },
  {
   "cell_type": "code",
   "execution_count": 20,
   "metadata": {
    "execution": {
     "iopub.execute_input": "2024-11-17T10:38:35.346798Z",
     "iopub.status.busy": "2024-11-17T10:38:35.346413Z",
     "iopub.status.idle": "2024-11-17T10:38:35.377438Z",
     "shell.execute_reply": "2024-11-17T10:38:35.375826Z",
     "shell.execute_reply.started": "2024-11-17T10:38:35.346760Z"
    },
    "trusted": true
   },
   "outputs": [
    {
     "data": {
      "text/html": [
       "<div>\n",
       "<style scoped>\n",
       "    .dataframe tbody tr th:only-of-type {\n",
       "        vertical-align: middle;\n",
       "    }\n",
       "\n",
       "    .dataframe tbody tr th {\n",
       "        vertical-align: top;\n",
       "    }\n",
       "\n",
       "    .dataframe thead th {\n",
       "        text-align: right;\n",
       "    }\n",
       "</style>\n",
       "<table border=\"1\" class=\"dataframe\">\n",
       "  <thead>\n",
       "    <tr style=\"text-align: right;\">\n",
       "      <th></th>\n",
       "      <th>survived</th>\n",
       "      <th>pclass</th>\n",
       "      <th>female</th>\n",
       "      <th>age</th>\n",
       "      <th>sibsp</th>\n",
       "      <th>parch</th>\n",
       "      <th>fare</th>\n",
       "      <th>embarked</th>\n",
       "      <th>cabin_number</th>\n",
       "      <th>cabin_level</th>\n",
       "      <th>...</th>\n",
       "      <th>is_pclass_1</th>\n",
       "      <th>is_pclass_2</th>\n",
       "      <th>is_pclass_3</th>\n",
       "      <th>is_cabin_group_cn_0_25</th>\n",
       "      <th>is_cabin_group_cn_25_50</th>\n",
       "      <th>is_cabin_group_cn_50_75</th>\n",
       "      <th>is_cabin_group_cn_75_100</th>\n",
       "      <th>is_cabin_group_cn_100_125</th>\n",
       "      <th>is_cabin_group_cn_125_150</th>\n",
       "      <th>is_embarked_as_S</th>\n",
       "    </tr>\n",
       "  </thead>\n",
       "  <tbody>\n",
       "    <tr>\n",
       "      <th>0</th>\n",
       "      <td>0</td>\n",
       "      <td>3</td>\n",
       "      <td>0</td>\n",
       "      <td>22.0</td>\n",
       "      <td>1</td>\n",
       "      <td>0</td>\n",
       "      <td>7.2500</td>\n",
       "      <td>S</td>\n",
       "      <td>NaN</td>\n",
       "      <td>NaN</td>\n",
       "      <td>...</td>\n",
       "      <td>0</td>\n",
       "      <td>0</td>\n",
       "      <td>1</td>\n",
       "      <td>0</td>\n",
       "      <td>0</td>\n",
       "      <td>0</td>\n",
       "      <td>0</td>\n",
       "      <td>0</td>\n",
       "      <td>0</td>\n",
       "      <td>NaN</td>\n",
       "    </tr>\n",
       "    <tr>\n",
       "      <th>1</th>\n",
       "      <td>1</td>\n",
       "      <td>1</td>\n",
       "      <td>1</td>\n",
       "      <td>38.0</td>\n",
       "      <td>1</td>\n",
       "      <td>0</td>\n",
       "      <td>71.2833</td>\n",
       "      <td>C</td>\n",
       "      <td>85.0</td>\n",
       "      <td>C</td>\n",
       "      <td>...</td>\n",
       "      <td>1</td>\n",
       "      <td>0</td>\n",
       "      <td>0</td>\n",
       "      <td>0</td>\n",
       "      <td>0</td>\n",
       "      <td>0</td>\n",
       "      <td>1</td>\n",
       "      <td>0</td>\n",
       "      <td>0</td>\n",
       "      <td>NaN</td>\n",
       "    </tr>\n",
       "    <tr>\n",
       "      <th>2</th>\n",
       "      <td>1</td>\n",
       "      <td>3</td>\n",
       "      <td>1</td>\n",
       "      <td>26.0</td>\n",
       "      <td>0</td>\n",
       "      <td>0</td>\n",
       "      <td>7.9250</td>\n",
       "      <td>S</td>\n",
       "      <td>NaN</td>\n",
       "      <td>NaN</td>\n",
       "      <td>...</td>\n",
       "      <td>0</td>\n",
       "      <td>0</td>\n",
       "      <td>1</td>\n",
       "      <td>0</td>\n",
       "      <td>0</td>\n",
       "      <td>0</td>\n",
       "      <td>0</td>\n",
       "      <td>0</td>\n",
       "      <td>0</td>\n",
       "      <td>NaN</td>\n",
       "    </tr>\n",
       "    <tr>\n",
       "      <th>3</th>\n",
       "      <td>1</td>\n",
       "      <td>1</td>\n",
       "      <td>1</td>\n",
       "      <td>35.0</td>\n",
       "      <td>1</td>\n",
       "      <td>0</td>\n",
       "      <td>53.1000</td>\n",
       "      <td>S</td>\n",
       "      <td>123.0</td>\n",
       "      <td>C</td>\n",
       "      <td>...</td>\n",
       "      <td>1</td>\n",
       "      <td>0</td>\n",
       "      <td>0</td>\n",
       "      <td>0</td>\n",
       "      <td>0</td>\n",
       "      <td>0</td>\n",
       "      <td>0</td>\n",
       "      <td>1</td>\n",
       "      <td>0</td>\n",
       "      <td>NaN</td>\n",
       "    </tr>\n",
       "    <tr>\n",
       "      <th>4</th>\n",
       "      <td>0</td>\n",
       "      <td>3</td>\n",
       "      <td>0</td>\n",
       "      <td>35.0</td>\n",
       "      <td>0</td>\n",
       "      <td>0</td>\n",
       "      <td>8.0500</td>\n",
       "      <td>S</td>\n",
       "      <td>NaN</td>\n",
       "      <td>NaN</td>\n",
       "      <td>...</td>\n",
       "      <td>0</td>\n",
       "      <td>0</td>\n",
       "      <td>1</td>\n",
       "      <td>0</td>\n",
       "      <td>0</td>\n",
       "      <td>0</td>\n",
       "      <td>0</td>\n",
       "      <td>0</td>\n",
       "      <td>0</td>\n",
       "      <td>NaN</td>\n",
       "    </tr>\n",
       "  </tbody>\n",
       "</table>\n",
       "<p>5 rows × 35 columns</p>\n",
       "</div>"
      ],
      "text/plain": [
       "   survived pclass  female   age  sibsp  parch     fare embarked  \\\n",
       "0         0      3       0  22.0      1      0   7.2500        S   \n",
       "1         1      1       1  38.0      1      0  71.2833        C   \n",
       "2         1      3       1  26.0      0      0   7.9250        S   \n",
       "3         1      1       1  35.0      1      0  53.1000        S   \n",
       "4         0      3       0  35.0      0      0   8.0500        S   \n",
       "\n",
       "   cabin_number cabin_level  ... is_pclass_1  is_pclass_2  is_pclass_3  \\\n",
       "0           NaN         NaN  ...           0            0            1   \n",
       "1          85.0           C  ...           1            0            0   \n",
       "2           NaN         NaN  ...           0            0            1   \n",
       "3         123.0           C  ...           1            0            0   \n",
       "4           NaN         NaN  ...           0            0            1   \n",
       "\n",
       "   is_cabin_group_cn_0_25  is_cabin_group_cn_25_50  is_cabin_group_cn_50_75  \\\n",
       "0                       0                        0                        0   \n",
       "1                       0                        0                        0   \n",
       "2                       0                        0                        0   \n",
       "3                       0                        0                        0   \n",
       "4                       0                        0                        0   \n",
       "\n",
       "   is_cabin_group_cn_75_100  is_cabin_group_cn_100_125  \\\n",
       "0                         0                          0   \n",
       "1                         1                          0   \n",
       "2                         0                          0   \n",
       "3                         0                          1   \n",
       "4                         0                          0   \n",
       "\n",
       "   is_cabin_group_cn_125_150  is_embarked_as_S  \n",
       "0                          0               NaN  \n",
       "1                          0               NaN  \n",
       "2                          0               NaN  \n",
       "3                          0               NaN  \n",
       "4                          0               NaN  \n",
       "\n",
       "[5 rows x 35 columns]"
      ]
     },
     "execution_count": 20,
     "metadata": {},
     "output_type": "execute_result"
    }
   ],
   "source": [
    "df.head()"
   ]
  },
  {
   "cell_type": "markdown",
   "metadata": {},
   "source": [
    "Несколько идей которые можно было бы реализовать, но соотношение усилие/результат не соответствуют задаче:\n",
    "1. В принципе, есть открытая [информация](https://www.encyclopedia-titanica.org/cabins.html) о пассажирах, которую можно распарсить и использовать восстановления номеров кабин.\n",
    "2. Также существует [вики-проект](https://titanic.fandom.com/wiki/Special:AllPages), посвященный катастрофе, на котором можно найти пропущенные значения возраста.\n"
   ]
  },
  {
   "cell_type": "markdown",
   "metadata": {},
   "source": [
    "## 3. Исследование данных"
   ]
  },
  {
   "cell_type": "markdown",
   "metadata": {},
   "source": [
    "### Корреляционный анализ"
   ]
  },
  {
   "cell_type": "markdown",
   "metadata": {},
   "source": [
    "Мы начнем с построения матрицы корреляций признаков. Так как в данных много ординальных признаков, будем использовать корреляцию Спирмена."
   ]
  },
  {
   "cell_type": "code",
   "execution_count": 21,
   "metadata": {
    "execution": {
     "iopub.execute_input": "2024-11-17T10:46:17.754781Z",
     "iopub.status.busy": "2024-11-17T10:46:17.754281Z",
     "iopub.status.idle": "2024-11-17T10:46:18.892008Z",
     "shell.execute_reply": "2024-11-17T10:46:18.890795Z",
     "shell.execute_reply.started": "2024-11-17T10:46:17.754740Z"
    },
    "trusted": true
   },
   "outputs": [
    {
     "data": {
      "text/plain": [
       "<Axes: >"
      ]
     },
     "execution_count": 21,
     "metadata": {},
     "output_type": "execute_result"
    },
    {
     "data": {
      "image/png": "[encoded data removed]",
      "text/plain": [
       "<Figure size 1100x900 with 2 Axes>"
      ]
     },
     "metadata": {},
     "output_type": "display_data"
    }
   ],
   "source": [
    "f, ax = plt.subplots(figsize=(11, 9))\n",
    "\n",
    "df_categorical_columns = ['embarked', 'cabin_number', 'cabin_group']\n",
    "corr = df.drop(columns = df_categorical_columns).rank().corr(method='spearman')\n",
    "cmap = sns.diverging_palette(230, 20, as_cmap=True)\n",
    "sns.heatmap(corr, vmax=.3, center=0, cmap=cmap, square=True, linewidths=.5, cbar_kws={\"shrink\": .5})"
   ]
  },
  {
   "cell_type": "markdown",
   "metadata": {},
   "source": [
    "Несколько наблюдений\n",
    "- is_pclass_1 сильно коррелирован с бинарными признаками для кабины. Это связано с тем что данные по кабинам в основном сохранились для пассажиров первого класса\n",
    "- survived сильно коррелирован с ``female``, ``fare``, ``pclass`` и ``married``\n",
    "\n",
    "Посмотрим на то как распределены числовые признаки:"
   ]
  },
  {
   "cell_type": "markdown",
   "metadata": {},
   "source": [
    "### Распределение признаков"
   ]
  },
  {
   "cell_type": "markdown",
   "metadata": {},
   "source": [
    "Посмотрим на гистограммы отражающие долю выживших по значениям ``fare`` и ``age``"
   ]
  },
  {
   "cell_type": "code",
   "execution_count": 22,
   "metadata": {
    "execution": {
     "iopub.execute_input": "2024-11-17T10:46:23.170609Z",
     "iopub.status.busy": "2024-11-17T10:46:23.170141Z",
     "iopub.status.idle": "2024-11-17T10:46:24.623869Z",
     "shell.execute_reply": "2024-11-17T10:46:24.622656Z",
     "shell.execute_reply.started": "2024-11-17T10:46:23.170564Z"
    },
    "trusted": true
   },
   "outputs": [
    {
     "data": {
      "image/png": "[encoded data removed]",
      "text/plain": [
       "<Figure size 1200x1000 with 2 Axes>"
      ]
     },
     "metadata": {},
     "output_type": "display_data"
    }
   ],
   "source": [
    "fig, axs = plt.subplots(2, 1, figsize = (12, 10))\n",
    "\n",
    "for (i, column) in enumerate(['fare', 'age']):\n",
    "    name = ' '.join(column.split('_'))\n",
    "    sns.histplot(data = df, x = column, ax = axs[i], multiple = 'stack', hue = 'survived')\n",
    "    axs[i].set_xlabel(name)\n",
    "    axs[i].set_title(f'Distribution of {name}')"
   ]
  },
  {
   "cell_type": "markdown",
   "metadata": {},
   "source": [
    "Посмотрим также на совместное распределение возраста и стоимости поездки:"
   ]
  },
  {
   "cell_type": "code",
   "execution_count": 23,
   "metadata": {
    "execution": {
     "iopub.execute_input": "2024-11-17T10:46:58.349769Z",
     "iopub.status.busy": "2024-11-17T10:46:58.349336Z",
     "iopub.status.idle": "2024-11-17T10:46:58.703224Z",
     "shell.execute_reply": "2024-11-17T10:46:58.702028Z",
     "shell.execute_reply.started": "2024-11-17T10:46:58.349729Z"
    },
    "trusted": true
   },
   "outputs": [
    {
     "data": {
      "text/plain": [
       "<Axes: xlabel='age', ylabel='fare'>"
      ]
     },
     "execution_count": 23,
     "metadata": {},
     "output_type": "execute_result"
    },
    {
     "data": {
      "image/png": "[encoded data removed]",
      "text/plain": [
       "<Figure size 640x480 with 1 Axes>"
      ]
     },
     "metadata": {},
     "output_type": "display_data"
    }
   ],
   "source": [
    "fig, ax = plt.subplots()\n",
    "sns.scatterplot(data = df, x = 'age', y = 'fare', hue = 'survived')"
   ]
  },
  {
   "cell_type": "markdown",
   "metadata": {},
   "source": [
    "Заметим, что распределение ``fare`` выглядит похожим на логнормальное распределение (за исключением людей у которых ``fare`` равно 0). Попробуем посмотреть в логарифмическом масштабе:"
   ]
  },
  {
   "cell_type": "code",
   "execution_count": 24,
   "metadata": {
    "execution": {
     "iopub.execute_input": "2024-11-17T10:48:48.953830Z",
     "iopub.status.busy": "2024-11-17T10:48:48.953336Z",
     "iopub.status.idle": "2024-11-17T10:48:48.963877Z",
     "shell.execute_reply": "2024-11-17T10:48:48.962510Z",
     "shell.execute_reply.started": "2024-11-17T10:48:48.953786Z"
    },
    "trusted": true
   },
   "outputs": [],
   "source": [
    "df['log_fare'] = np.nan\n",
    "df.loc[df['fare'] > 0, 'log_fare'] = np.log(df.loc[df['fare'] > 0, 'fare'])"
   ]
  },
  {
   "cell_type": "code",
   "execution_count": 25,
   "metadata": {
    "execution": {
     "iopub.execute_input": "2024-11-17T10:51:18.779000Z",
     "iopub.status.busy": "2024-11-17T10:51:18.778572Z",
     "iopub.status.idle": "2024-11-17T10:51:19.654642Z",
     "shell.execute_reply": "2024-11-17T10:51:19.653445Z",
     "shell.execute_reply.started": "2024-11-17T10:51:18.778960Z"
    },
    "trusted": true
   },
   "outputs": [
    {
     "data": {
      "text/plain": [
       "<seaborn.axisgrid.JointGrid at 0x137e7090390>"
      ]
     },
     "execution_count": 25,
     "metadata": {},
     "output_type": "execute_result"
    },
    {
     "data": {
      "image/png": "[encoded data removed]",
      "text/plain": [
       "<Figure size 600x600 with 3 Axes>"
      ]
     },
     "metadata": {},
     "output_type": "display_data"
    }
   ],
   "source": [
    "sns.jointplot(data = df, x = 'age', y = 'log_fare', hue = 'survived')"
   ]
  },
  {
   "cell_type": "markdown",
   "metadata": {},
   "source": [
    "Видно что:\n",
    "- Детям отдавали предпочтение при спасении\n",
    "- Пассажиры, которые заплатили больше денег имеют более высокие шансы на спасение"
   ]
  },
  {
   "cell_type": "markdown",
   "metadata": {},
   "source": [
    "Построим также ящики с усами для распределения возраста и целевой переменной по классу пассажиров:"
   ]
  },
  {
   "cell_type": "code",
   "execution_count": 26,
   "metadata": {
    "execution": {
     "iopub.execute_input": "2024-11-17T10:52:58.749740Z",
     "iopub.status.busy": "2024-11-17T10:52:58.748593Z",
     "iopub.status.idle": "2024-11-17T10:52:59.319189Z",
     "shell.execute_reply": "2024-11-17T10:52:59.317868Z",
     "shell.execute_reply.started": "2024-11-17T10:52:58.749691Z"
    },
    "trusted": true
   },
   "outputs": [
    {
     "data": {
      "text/plain": [
       "<Axes: xlabel='pclass', ylabel='age'>"
      ]
     },
     "execution_count": 26,
     "metadata": {},
     "output_type": "execute_result"
    },
    {
     "data": {
      "image/png": "[encoded data removed]",
      "text/plain": [
       "<Figure size 640x480 with 1 Axes>"
      ]
     },
     "metadata": {},
     "output_type": "display_data"
    }
   ],
   "source": [
    "fig, ax = plt.subplots()\n",
    "sns.boxplot(data=df, x=\"pclass\", y=\"age\", ax=ax, hue=\"survived\")"
   ]
  },
  {
   "cell_type": "markdown",
   "metadata": {},
   "source": [
    "Во-первых, возраст и класс пассажира положительно коррелированны (это согласовывается с матрицей корреляцией). Видимо это следствие того что чем старше человек, тем больше шансов того что он будет состоятельным. Во вторых опять проявляется тенденция к тому что меньшие значения возраста увеличивают шансы на выживание."
   ]
  },
  {
   "cell_type": "code",
   "execution_count": 27,
   "metadata": {
    "execution": {
     "iopub.execute_input": "2024-11-17T11:01:09.325535Z",
     "iopub.status.busy": "2024-11-17T11:01:09.324637Z",
     "iopub.status.idle": "2024-11-17T11:01:09.355203Z",
     "shell.execute_reply": "2024-11-17T11:01:09.354058Z",
     "shell.execute_reply.started": "2024-11-17T11:01:09.325489Z"
    },
    "trusted": true
   },
   "outputs": [
    {
     "data": {
      "text/html": [
       "<div>\n",
       "<style scoped>\n",
       "    .dataframe tbody tr th:only-of-type {\n",
       "        vertical-align: middle;\n",
       "    }\n",
       "\n",
       "    .dataframe tbody tr th {\n",
       "        vertical-align: top;\n",
       "    }\n",
       "\n",
       "    .dataframe thead th {\n",
       "        text-align: right;\n",
       "    }\n",
       "</style>\n",
       "<table border=\"1\" class=\"dataframe\">\n",
       "  <thead>\n",
       "    <tr style=\"text-align: right;\">\n",
       "      <th></th>\n",
       "      <th>survived</th>\n",
       "      <th>pclass</th>\n",
       "      <th>female</th>\n",
       "      <th>age</th>\n",
       "      <th>sibsp</th>\n",
       "      <th>parch</th>\n",
       "      <th>fare</th>\n",
       "      <th>embarked</th>\n",
       "      <th>cabin_number</th>\n",
       "      <th>cabin_level</th>\n",
       "      <th>...</th>\n",
       "      <th>is_pclass_2</th>\n",
       "      <th>is_pclass_3</th>\n",
       "      <th>is_cabin_group_cn_0_25</th>\n",
       "      <th>is_cabin_group_cn_25_50</th>\n",
       "      <th>is_cabin_group_cn_50_75</th>\n",
       "      <th>is_cabin_group_cn_75_100</th>\n",
       "      <th>is_cabin_group_cn_100_125</th>\n",
       "      <th>is_cabin_group_cn_125_150</th>\n",
       "      <th>is_embarked_as_S</th>\n",
       "      <th>log_fare</th>\n",
       "    </tr>\n",
       "  </thead>\n",
       "  <tbody>\n",
       "    <tr>\n",
       "      <th>0</th>\n",
       "      <td>0</td>\n",
       "      <td>3</td>\n",
       "      <td>0</td>\n",
       "      <td>22.0</td>\n",
       "      <td>1</td>\n",
       "      <td>0</td>\n",
       "      <td>7.2500</td>\n",
       "      <td>S</td>\n",
       "      <td>NaN</td>\n",
       "      <td>NaN</td>\n",
       "      <td>...</td>\n",
       "      <td>0</td>\n",
       "      <td>1</td>\n",
       "      <td>0</td>\n",
       "      <td>0</td>\n",
       "      <td>0</td>\n",
       "      <td>0</td>\n",
       "      <td>0</td>\n",
       "      <td>0</td>\n",
       "      <td>NaN</td>\n",
       "      <td>1.981001</td>\n",
       "    </tr>\n",
       "    <tr>\n",
       "      <th>1</th>\n",
       "      <td>1</td>\n",
       "      <td>1</td>\n",
       "      <td>1</td>\n",
       "      <td>38.0</td>\n",
       "      <td>1</td>\n",
       "      <td>0</td>\n",
       "      <td>71.2833</td>\n",
       "      <td>C</td>\n",
       "      <td>85.0</td>\n",
       "      <td>C</td>\n",
       "      <td>...</td>\n",
       "      <td>0</td>\n",
       "      <td>0</td>\n",
       "      <td>0</td>\n",
       "      <td>0</td>\n",
       "      <td>0</td>\n",
       "      <td>1</td>\n",
       "      <td>0</td>\n",
       "      <td>0</td>\n",
       "      <td>NaN</td>\n",
       "      <td>4.266662</td>\n",
       "    </tr>\n",
       "    <tr>\n",
       "      <th>2</th>\n",
       "      <td>1</td>\n",
       "      <td>3</td>\n",
       "      <td>1</td>\n",
       "      <td>26.0</td>\n",
       "      <td>0</td>\n",
       "      <td>0</td>\n",
       "      <td>7.9250</td>\n",
       "      <td>S</td>\n",
       "      <td>NaN</td>\n",
       "      <td>NaN</td>\n",
       "      <td>...</td>\n",
       "      <td>0</td>\n",
       "      <td>1</td>\n",
       "      <td>0</td>\n",
       "      <td>0</td>\n",
       "      <td>0</td>\n",
       "      <td>0</td>\n",
       "      <td>0</td>\n",
       "      <td>0</td>\n",
       "      <td>NaN</td>\n",
       "      <td>2.070022</td>\n",
       "    </tr>\n",
       "    <tr>\n",
       "      <th>3</th>\n",
       "      <td>1</td>\n",
       "      <td>1</td>\n",
       "      <td>1</td>\n",
       "      <td>35.0</td>\n",
       "      <td>1</td>\n",
       "      <td>0</td>\n",
       "      <td>53.1000</td>\n",
       "      <td>S</td>\n",
       "      <td>123.0</td>\n",
       "      <td>C</td>\n",
       "      <td>...</td>\n",
       "      <td>0</td>\n",
       "      <td>0</td>\n",
       "      <td>0</td>\n",
       "      <td>0</td>\n",
       "      <td>0</td>\n",
       "      <td>0</td>\n",
       "      <td>1</td>\n",
       "      <td>0</td>\n",
       "      <td>NaN</td>\n",
       "      <td>3.972177</td>\n",
       "    </tr>\n",
       "    <tr>\n",
       "      <th>4</th>\n",
       "      <td>0</td>\n",
       "      <td>3</td>\n",
       "      <td>0</td>\n",
       "      <td>35.0</td>\n",
       "      <td>0</td>\n",
       "      <td>0</td>\n",
       "      <td>8.0500</td>\n",
       "      <td>S</td>\n",
       "      <td>NaN</td>\n",
       "      <td>NaN</td>\n",
       "      <td>...</td>\n",
       "      <td>0</td>\n",
       "      <td>1</td>\n",
       "      <td>0</td>\n",
       "      <td>0</td>\n",
       "      <td>0</td>\n",
       "      <td>0</td>\n",
       "      <td>0</td>\n",
       "      <td>0</td>\n",
       "      <td>NaN</td>\n",
       "      <td>2.085672</td>\n",
       "    </tr>\n",
       "  </tbody>\n",
       "</table>\n",
       "<p>5 rows × 36 columns</p>\n",
       "</div>"
      ],
      "text/plain": [
       "   survived pclass  female   age  sibsp  parch     fare embarked  \\\n",
       "0         0      3       0  22.0      1      0   7.2500        S   \n",
       "1         1      1       1  38.0      1      0  71.2833        C   \n",
       "2         1      3       1  26.0      0      0   7.9250        S   \n",
       "3         1      1       1  35.0      1      0  53.1000        S   \n",
       "4         0      3       0  35.0      0      0   8.0500        S   \n",
       "\n",
       "   cabin_number cabin_level  ... is_pclass_2  is_pclass_3  \\\n",
       "0           NaN         NaN  ...           0            1   \n",
       "1          85.0           C  ...           0            0   \n",
       "2           NaN         NaN  ...           0            1   \n",
       "3         123.0           C  ...           0            0   \n",
       "4           NaN         NaN  ...           0            1   \n",
       "\n",
       "   is_cabin_group_cn_0_25  is_cabin_group_cn_25_50  is_cabin_group_cn_50_75  \\\n",
       "0                       0                        0                        0   \n",
       "1                       0                        0                        0   \n",
       "2                       0                        0                        0   \n",
       "3                       0                        0                        0   \n",
       "4                       0                        0                        0   \n",
       "\n",
       "   is_cabin_group_cn_75_100  is_cabin_group_cn_100_125  \\\n",
       "0                         0                          0   \n",
       "1                         1                          0   \n",
       "2                         0                          0   \n",
       "3                         0                          1   \n",
       "4                         0                          0   \n",
       "\n",
       "   is_cabin_group_cn_125_150  is_embarked_as_S  log_fare  \n",
       "0                          0               NaN  1.981001  \n",
       "1                          0               NaN  4.266662  \n",
       "2                          0               NaN  2.070022  \n",
       "3                          0               NaN  3.972177  \n",
       "4                          0               NaN  2.085672  \n",
       "\n",
       "[5 rows x 36 columns]"
      ]
     },
     "execution_count": 27,
     "metadata": {},
     "output_type": "execute_result"
    }
   ],
   "source": [
    "df.head()"
   ]
  },
  {
   "cell_type": "markdown",
   "metadata": {},
   "source": [
    "Сделаем то же самое, но вместо группировки по классам пассажиров, будем группировать по полу:"
   ]
  },
  {
   "cell_type": "code",
   "execution_count": 28,
   "metadata": {
    "execution": {
     "iopub.execute_input": "2024-11-17T10:53:23.575519Z",
     "iopub.status.busy": "2024-11-17T10:53:23.574485Z",
     "iopub.status.idle": "2024-11-17T10:53:23.963376Z",
     "shell.execute_reply": "2024-11-17T10:53:23.962160Z",
     "shell.execute_reply.started": "2024-11-17T10:53:23.575459Z"
    },
    "trusted": true
   },
   "outputs": [
    {
     "data": {
      "text/plain": [
       "<Axes: xlabel='female', ylabel='age'>"
      ]
     },
     "execution_count": 28,
     "metadata": {},
     "output_type": "execute_result"
    },
    {
     "data": {
      "image/png": "[encoded data removed]",
      "text/plain": [
       "<Figure size 640x480 with 1 Axes>"
      ]
     },
     "metadata": {},
     "output_type": "display_data"
    }
   ],
   "source": [
    "fig, ax = plt.subplots()\n",
    "sns.boxplot(data=df, x=\"female\", y=\"age\", ax=ax, hue=\"survived\")"
   ]
  },
  {
   "cell_type": "markdown",
   "metadata": {},
   "source": [
    "### Категориальные признаки и значение survived"
   ]
  },
  {
   "cell_type": "markdown",
   "metadata": {},
   "source": [
    "Используем критерий $\\chi^2$, чтобы проверить есть ли статистически значимая связь между категориальными признаками и целевой переменной survived. Я буду использовать свою реализацию с красивой оберткой для печати результатов, без поправки Йейтса (она здесь и не нужна правда). "
   ]
  },
  {
   "cell_type": "code",
   "execution_count": 29,
   "metadata": {
    "execution": {
     "iopub.execute_input": "2024-11-17T11:11:48.203714Z",
     "iopub.status.busy": "2024-11-17T11:11:48.203146Z",
     "iopub.status.idle": "2024-11-17T11:11:48.221824Z",
     "shell.execute_reply": "2024-11-17T11:11:48.220541Z",
     "shell.execute_reply.started": "2024-11-17T11:11:48.203666Z"
    },
    "trusted": true
   },
   "outputs": [],
   "source": [
    "hypothesis_side = Literal[\"both\", \"left\", \"right\"]\n",
    "\n",
    "class StatTestResult:\n",
    "    \"\"\"\n",
    "    Wrapper that carries information about performed statistical test. \n",
    "    \n",
    "    Attributes\n",
    "    ----------\n",
    "    statistics : float\n",
    "        value of the test's statistics.\n",
    "    p_value : float\n",
    "        obtained p-value for the test's statistics.\n",
    "    significance : float\n",
    "        significance level for the performed test\n",
    "    critical_value : float\n",
    "        critical value of the test's statistics for the given significance level \n",
    "    test_name : str\n",
    "        name of the test\n",
    "    null_name: str\n",
    "        formulation of the null hypothesis\n",
    "    alternative_name : str\n",
    "        formulation of the alternative hypothesis\n",
    "    verdict: \n",
    "        test's verdict\n",
    "    \"\"\"\n",
    "    def __init__(self, statistics : float, p_value : float, significance : float, critical_value : float,\\\n",
    "                        test_name : str, null_name : str, alternative_name : str):\n",
    "        self.statistics = statistics\n",
    "        self.p_value = p_value\n",
    "        self.significance = significance\n",
    "        self.critical_value = critical_value\n",
    "        self.name = test_name\n",
    "        self.null = null_name\n",
    "        self.alternative = alternative_name\n",
    "        \n",
    "        if p_value < significance:\n",
    "            self.verdict = f\"Reject H0 at significance level {significance}\"\n",
    "        else:\n",
    "            self.verdict = f\"Accept H0 at significance level {significance}\"\n",
    "\n",
    "    def __repr__(self):\n",
    "        return f\"\"\"\n",
    "        {self.name}. \n",
    "        H0: {self.null}\n",
    "        H1: {self.alternative}\n",
    "        ===================================\n",
    "        Statistics value: {self.statistics}. Critical value: {self.critical_value}\n",
    "        P-value: {self.p_value}, \n",
    "        Verdict: {self.verdict}\n",
    "        \"\"\"\n",
    "    def __str__(self):\n",
    "        return f\"Statistics: {self.statistics}, P-value: {self.p_value}\"\n",
    "\n",
    "def chi2_contingency(observed : ArrayLike, significance : float = 0.05) -> StatTestResult:\n",
    "    \"\"\"\n",
    "        Performs chi-square independence test test for contingency table\n",
    "        \n",
    "        Parameters\n",
    "        ----------\n",
    "        observed : ArrayLike\n",
    "            contingency tablefor the test \n",
    "        significance : float\n",
    "            significance level for the performed test\n",
    "            \n",
    "        Returns\n",
    "        -------\n",
    "        res : StatTestResult\n",
    "            An object containing infomration about test results\n",
    "    \"\"\"\n",
    "    dof = (observed.shape[0] - 1) * (observed.shape[1] - 1)\n",
    "    expected = 1/np.sum(observed) * \\\n",
    "                np.tile(np.sum(observed, axis = 0), (observed.shape[0], 1)) *\\\n",
    "                np.tile(np.sum(observed, axis = 1), (observed.shape[1], 1)).transpose()\n",
    "    \n",
    "    statistics = np.sum((observed - expected) ** 2 / expected)\n",
    "    critical_value = stats.chi2(df = dof).ppf(1 - significance)\n",
    "    p_value = 1 - stats.chi2(df = dof).cdf(statistics)\n",
    "    return StatTestResult(statistics, p_value, significance, critical_value, \n",
    "                              \"Pearson Chi Square Independence test\", f\"Rows and columns are independent\",  f\"Rows and columns are dependent\")"
   ]
  },
  {
   "cell_type": "markdown",
   "metadata": {
    "execution": {
     "iopub.execute_input": "2024-11-17T11:12:32.316414Z",
     "iopub.status.busy": "2024-11-17T11:12:32.315385Z",
     "iopub.status.idle": "2024-11-17T11:12:32.325005Z",
     "shell.execute_reply": "2024-11-17T11:12:32.323046Z",
     "shell.execute_reply.started": "2024-11-17T11:12:32.316354Z"
    }
   },
   "source": [
    "Проверим следующие признаки:\n",
    "- 'female'\n",
    "- 'married'\n",
    "- 'child'\n",
    "- 'embarked'\n"
   ]
  },
  {
   "cell_type": "code",
   "execution_count": 30,
   "metadata": {
    "execution": {
     "iopub.execute_input": "2024-11-17T11:12:35.588953Z",
     "iopub.status.busy": "2024-11-17T11:12:35.588489Z",
     "iopub.status.idle": "2024-11-17T11:12:35.610216Z",
     "shell.execute_reply": "2024-11-17T11:12:35.608854Z",
     "shell.execute_reply.started": "2024-11-17T11:12:35.588911Z"
    },
    "trusted": true
   },
   "outputs": [
    {
     "data": {
      "text/html": [
       "<div>\n",
       "<style scoped>\n",
       "    .dataframe tbody tr th:only-of-type {\n",
       "        vertical-align: middle;\n",
       "    }\n",
       "\n",
       "    .dataframe tbody tr th {\n",
       "        vertical-align: top;\n",
       "    }\n",
       "\n",
       "    .dataframe thead th {\n",
       "        text-align: right;\n",
       "    }\n",
       "</style>\n",
       "<table border=\"1\" class=\"dataframe\">\n",
       "  <thead>\n",
       "    <tr style=\"text-align: right;\">\n",
       "      <th>female</th>\n",
       "      <th>0</th>\n",
       "      <th>1</th>\n",
       "    </tr>\n",
       "    <tr>\n",
       "      <th>survived</th>\n",
       "      <th></th>\n",
       "      <th></th>\n",
       "    </tr>\n",
       "  </thead>\n",
       "  <tbody>\n",
       "    <tr>\n",
       "      <th>0</th>\n",
       "      <td>468</td>\n",
       "      <td>81</td>\n",
       "    </tr>\n",
       "    <tr>\n",
       "      <th>1</th>\n",
       "      <td>109</td>\n",
       "      <td>233</td>\n",
       "    </tr>\n",
       "  </tbody>\n",
       "</table>\n",
       "</div>"
      ],
      "text/plain": [
       "female      0    1\n",
       "survived          \n",
       "0         468   81\n",
       "1         109  233"
      ]
     },
     "execution_count": 30,
     "metadata": {},
     "output_type": "execute_result"
    }
   ],
   "source": [
    "crosstable = crosstable = pd.crosstab(df.survived, df.female)\n",
    "crosstable.head()"
   ]
  },
  {
   "cell_type": "code",
   "execution_count": 31,
   "metadata": {
    "execution": {
     "iopub.execute_input": "2024-11-17T07:54:06.921413Z",
     "iopub.status.busy": "2024-11-17T07:54:06.921030Z",
     "iopub.status.idle": "2024-11-17T07:54:06.931346Z",
     "shell.execute_reply": "2024-11-17T07:54:06.930206Z",
     "shell.execute_reply.started": "2024-11-17T07:54:06.921378Z"
    },
    "trusted": true
   },
   "outputs": [
    {
     "data": {
      "text/plain": [
       "\n",
       "        Pearson Chi Square Independence test. \n",
       "        H0: Rows and columns are independent\n",
       "        H1: Rows and columns are dependent\n",
       "        ===================================\n",
       "        Statistics value: 263.05057407065567. Critical value: 3.841458820694124\n",
       "        P-value: 0.0, \n",
       "        Verdict: Reject H0 at significance level 0.05\n",
       "        "
      ]
     },
     "execution_count": 31,
     "metadata": {},
     "output_type": "execute_result"
    }
   ],
   "source": [
    "chi2_contingency(crosstable.values)"
   ]
  },
  {
   "cell_type": "code",
   "execution_count": 32,
   "metadata": {
    "execution": {
     "iopub.execute_input": "2024-11-17T11:12:40.612181Z",
     "iopub.status.busy": "2024-11-17T11:12:40.611762Z",
     "iopub.status.idle": "2024-11-17T11:12:40.633104Z",
     "shell.execute_reply": "2024-11-17T11:12:40.631929Z",
     "shell.execute_reply.started": "2024-11-17T11:12:40.612140Z"
    },
    "trusted": true
   },
   "outputs": [
    {
     "data": {
      "text/html": [
       "<div>\n",
       "<style scoped>\n",
       "    .dataframe tbody tr th:only-of-type {\n",
       "        vertical-align: middle;\n",
       "    }\n",
       "\n",
       "    .dataframe tbody tr th {\n",
       "        vertical-align: top;\n",
       "    }\n",
       "\n",
       "    .dataframe thead th {\n",
       "        text-align: right;\n",
       "    }\n",
       "</style>\n",
       "<table border=\"1\" class=\"dataframe\">\n",
       "  <thead>\n",
       "    <tr style=\"text-align: right;\">\n",
       "      <th>married</th>\n",
       "      <th>0</th>\n",
       "      <th>1</th>\n",
       "    </tr>\n",
       "    <tr>\n",
       "      <th>survived</th>\n",
       "      <th></th>\n",
       "      <th></th>\n",
       "    </tr>\n",
       "  </thead>\n",
       "  <tbody>\n",
       "    <tr>\n",
       "      <th>0</th>\n",
       "      <td>87</td>\n",
       "      <td>462</td>\n",
       "    </tr>\n",
       "    <tr>\n",
       "      <th>1</th>\n",
       "      <td>162</td>\n",
       "      <td>180</td>\n",
       "    </tr>\n",
       "  </tbody>\n",
       "</table>\n",
       "</div>"
      ],
      "text/plain": [
       "married     0    1\n",
       "survived          \n",
       "0          87  462\n",
       "1         162  180"
      ]
     },
     "execution_count": 32,
     "metadata": {},
     "output_type": "execute_result"
    }
   ],
   "source": [
    "crosstable = crosstable = pd.crosstab(df.survived, df.married)\n",
    "crosstable.head()"
   ]
  },
  {
   "cell_type": "code",
   "execution_count": 33,
   "metadata": {
    "execution": {
     "iopub.execute_input": "2024-11-17T11:12:41.008996Z",
     "iopub.status.busy": "2024-11-17T11:12:41.008589Z",
     "iopub.status.idle": "2024-11-17T11:12:41.026655Z",
     "shell.execute_reply": "2024-11-17T11:12:41.025448Z",
     "shell.execute_reply.started": "2024-11-17T11:12:41.008957Z"
    },
    "trusted": true
   },
   "outputs": [
    {
     "data": {
      "text/plain": [
       "\n",
       "        Pearson Chi Square Independence test. \n",
       "        H0: Rows and columns are independent\n",
       "        H1: Rows and columns are dependent\n",
       "        ===================================\n",
       "        Statistics value: 103.98088424270325. Critical value: 3.841458820694124\n",
       "        P-value: 0.0, \n",
       "        Verdict: Reject H0 at significance level 0.05\n",
       "        "
      ]
     },
     "execution_count": 33,
     "metadata": {},
     "output_type": "execute_result"
    }
   ],
   "source": [
    "chi2_contingency(crosstable.values)"
   ]
  },
  {
   "cell_type": "code",
   "execution_count": 34,
   "metadata": {
    "execution": {
     "iopub.execute_input": "2024-11-17T11:12:41.336507Z",
     "iopub.status.busy": "2024-11-17T11:12:41.336053Z",
     "iopub.status.idle": "2024-11-17T11:12:41.356246Z",
     "shell.execute_reply": "2024-11-17T11:12:41.355136Z",
     "shell.execute_reply.started": "2024-11-17T11:12:41.336435Z"
    },
    "trusted": true
   },
   "outputs": [
    {
     "data": {
      "text/html": [
       "<div>\n",
       "<style scoped>\n",
       "    .dataframe tbody tr th:only-of-type {\n",
       "        vertical-align: middle;\n",
       "    }\n",
       "\n",
       "    .dataframe tbody tr th {\n",
       "        vertical-align: top;\n",
       "    }\n",
       "\n",
       "    .dataframe thead th {\n",
       "        text-align: right;\n",
       "    }\n",
       "</style>\n",
       "<table border=\"1\" class=\"dataframe\">\n",
       "  <thead>\n",
       "    <tr style=\"text-align: right;\">\n",
       "      <th>child</th>\n",
       "      <th>0</th>\n",
       "      <th>1</th>\n",
       "    </tr>\n",
       "    <tr>\n",
       "      <th>survived</th>\n",
       "      <th></th>\n",
       "      <th></th>\n",
       "    </tr>\n",
       "  </thead>\n",
       "  <tbody>\n",
       "    <tr>\n",
       "      <th>0</th>\n",
       "      <td>532</td>\n",
       "      <td>17</td>\n",
       "    </tr>\n",
       "    <tr>\n",
       "      <th>1</th>\n",
       "      <td>319</td>\n",
       "      <td>23</td>\n",
       "    </tr>\n",
       "  </tbody>\n",
       "</table>\n",
       "</div>"
      ],
      "text/plain": [
       "child       0   1\n",
       "survived         \n",
       "0         532  17\n",
       "1         319  23"
      ]
     },
     "execution_count": 34,
     "metadata": {},
     "output_type": "execute_result"
    }
   ],
   "source": [
    "crosstable = crosstable = pd.crosstab(df.survived, df.child)\n",
    "crosstable.head()"
   ]
  },
  {
   "cell_type": "code",
   "execution_count": 35,
   "metadata": {
    "execution": {
     "iopub.execute_input": "2024-11-17T11:12:41.803669Z",
     "iopub.status.busy": "2024-11-17T11:12:41.803208Z",
     "iopub.status.idle": "2024-11-17T11:12:41.814072Z",
     "shell.execute_reply": "2024-11-17T11:12:41.813022Z",
     "shell.execute_reply.started": "2024-11-17T11:12:41.803614Z"
    },
    "trusted": true
   },
   "outputs": [
    {
     "data": {
      "text/plain": [
       "\n",
       "        Pearson Chi Square Independence test. \n",
       "        H0: Rows and columns are independent\n",
       "        H1: Rows and columns are dependent\n",
       "        ===================================\n",
       "        Statistics value: 6.470926694879594. Critical value: 3.841458820694124\n",
       "        P-value: 0.010965334026465379, \n",
       "        Verdict: Reject H0 at significance level 0.05\n",
       "        "
      ]
     },
     "execution_count": 35,
     "metadata": {},
     "output_type": "execute_result"
    }
   ],
   "source": [
    "chi2_contingency(crosstable.values)"
   ]
  },
  {
   "cell_type": "code",
   "execution_count": 36,
   "metadata": {
    "execution": {
     "iopub.execute_input": "2024-11-17T11:12:45.302140Z",
     "iopub.status.busy": "2024-11-17T11:12:45.301722Z",
     "iopub.status.idle": "2024-11-17T11:12:45.323976Z",
     "shell.execute_reply": "2024-11-17T11:12:45.322598Z",
     "shell.execute_reply.started": "2024-11-17T11:12:45.302099Z"
    },
    "trusted": true
   },
   "outputs": [
    {
     "data": {
      "text/html": [
       "<div>\n",
       "<style scoped>\n",
       "    .dataframe tbody tr th:only-of-type {\n",
       "        vertical-align: middle;\n",
       "    }\n",
       "\n",
       "    .dataframe tbody tr th {\n",
       "        vertical-align: top;\n",
       "    }\n",
       "\n",
       "    .dataframe thead th {\n",
       "        text-align: right;\n",
       "    }\n",
       "</style>\n",
       "<table border=\"1\" class=\"dataframe\">\n",
       "  <thead>\n",
       "    <tr style=\"text-align: right;\">\n",
       "      <th>embarked</th>\n",
       "      <th>C</th>\n",
       "      <th>Q</th>\n",
       "      <th>S</th>\n",
       "    </tr>\n",
       "    <tr>\n",
       "      <th>survived</th>\n",
       "      <th></th>\n",
       "      <th></th>\n",
       "      <th></th>\n",
       "    </tr>\n",
       "  </thead>\n",
       "  <tbody>\n",
       "    <tr>\n",
       "      <th>0</th>\n",
       "      <td>75</td>\n",
       "      <td>47</td>\n",
       "      <td>427</td>\n",
       "    </tr>\n",
       "    <tr>\n",
       "      <th>1</th>\n",
       "      <td>93</td>\n",
       "      <td>30</td>\n",
       "      <td>219</td>\n",
       "    </tr>\n",
       "  </tbody>\n",
       "</table>\n",
       "</div>"
      ],
      "text/plain": [
       "embarked   C   Q    S\n",
       "survived             \n",
       "0         75  47  427\n",
       "1         93  30  219"
      ]
     },
     "execution_count": 36,
     "metadata": {},
     "output_type": "execute_result"
    }
   ],
   "source": [
    "crosstable = pd.crosstab(df.survived, df.embarked)\n",
    "crosstable.head()"
   ]
  },
  {
   "cell_type": "code",
   "execution_count": 37,
   "metadata": {
    "execution": {
     "iopub.execute_input": "2024-11-17T11:12:45.746056Z",
     "iopub.status.busy": "2024-11-17T11:12:45.745520Z",
     "iopub.status.idle": "2024-11-17T11:12:45.757026Z",
     "shell.execute_reply": "2024-11-17T11:12:45.755852Z",
     "shell.execute_reply.started": "2024-11-17T11:12:45.745996Z"
    },
    "trusted": true
   },
   "outputs": [
    {
     "data": {
      "text/plain": [
       "\n",
       "        Pearson Chi Square Independence test. \n",
       "        H0: Rows and columns are independent\n",
       "        H1: Rows and columns are dependent\n",
       "        ===================================\n",
       "        Statistics value: 25.964452881874777. Critical value: 5.991464547107979\n",
       "        P-value: 2.300862648185742e-06, \n",
       "        Verdict: Reject H0 at significance level 0.05\n",
       "        "
      ]
     },
     "execution_count": 37,
     "metadata": {},
     "output_type": "execute_result"
    }
   ],
   "source": [
    "chi2_contingency(crosstable.values)"
   ]
  },
  {
   "cell_type": "markdown",
   "metadata": {},
   "source": [
    "Итоги: все эти признаки существенно связаны со значением переменной survived. По некоторой непонятной причине, порт отправления тоже связан, хотя как эта связь может быть устроена - непонятно. \n",
    "\n",
    "Проверим теперь наличие связи между признаками отражающими информацию о каюте пассажира и целевой переменной. Так как данных мало, проверять будем на значимости 0.1"
   ]
  },
  {
   "cell_type": "code",
   "execution_count": 38,
   "metadata": {
    "execution": {
     "iopub.execute_input": "2024-11-17T11:15:27.515450Z",
     "iopub.status.busy": "2024-11-17T11:15:27.515014Z",
     "iopub.status.idle": "2024-11-17T11:15:27.542852Z",
     "shell.execute_reply": "2024-11-17T11:15:27.541663Z",
     "shell.execute_reply.started": "2024-11-17T11:15:27.515410Z"
    },
    "trusted": true
   },
   "outputs": [
    {
     "data": {
      "text/html": [
       "<div>\n",
       "<style scoped>\n",
       "    .dataframe tbody tr th:only-of-type {\n",
       "        vertical-align: middle;\n",
       "    }\n",
       "\n",
       "    .dataframe tbody tr th {\n",
       "        vertical-align: top;\n",
       "    }\n",
       "\n",
       "    .dataframe thead th {\n",
       "        text-align: right;\n",
       "    }\n",
       "</style>\n",
       "<table border=\"1\" class=\"dataframe\">\n",
       "  <thead>\n",
       "    <tr style=\"text-align: right;\">\n",
       "      <th>cabin_group</th>\n",
       "      <th>cn_0_25</th>\n",
       "      <th>cn_25_50</th>\n",
       "      <th>cn_50_75</th>\n",
       "      <th>cn_75_100</th>\n",
       "      <th>cn_100_125</th>\n",
       "      <th>cn_125_150</th>\n",
       "    </tr>\n",
       "    <tr>\n",
       "      <th>survived</th>\n",
       "      <th></th>\n",
       "      <th></th>\n",
       "      <th></th>\n",
       "      <th></th>\n",
       "      <th></th>\n",
       "      <th></th>\n",
       "    </tr>\n",
       "  </thead>\n",
       "  <tbody>\n",
       "    <tr>\n",
       "      <th>0</th>\n",
       "      <td>13</td>\n",
       "      <td>23</td>\n",
       "      <td>11</td>\n",
       "      <td>11</td>\n",
       "      <td>7</td>\n",
       "      <td>1</td>\n",
       "    </tr>\n",
       "    <tr>\n",
       "      <th>1</th>\n",
       "      <td>41</td>\n",
       "      <td>42</td>\n",
       "      <td>17</td>\n",
       "      <td>18</td>\n",
       "      <td>13</td>\n",
       "      <td>3</td>\n",
       "    </tr>\n",
       "  </tbody>\n",
       "</table>\n",
       "</div>"
      ],
      "text/plain": [
       "cabin_group  cn_0_25  cn_25_50  cn_50_75  cn_75_100  cn_100_125  cn_125_150\n",
       "survived                                                                   \n",
       "0                 13        23        11         11           7           1\n",
       "1                 41        42        17         18          13           3"
      ]
     },
     "execution_count": 38,
     "metadata": {},
     "output_type": "execute_result"
    }
   ],
   "source": [
    "crosstable = pd.crosstab(df.survived, df.cabin_group)\n",
    "crosstable.head()"
   ]
  },
  {
   "cell_type": "code",
   "execution_count": 39,
   "metadata": {
    "execution": {
     "iopub.execute_input": "2024-11-17T11:15:28.037493Z",
     "iopub.status.busy": "2024-11-17T11:15:28.037043Z",
     "iopub.status.idle": "2024-11-17T11:15:28.048800Z",
     "shell.execute_reply": "2024-11-17T11:15:28.047330Z",
     "shell.execute_reply.started": "2024-11-17T11:15:28.037435Z"
    },
    "trusted": true
   },
   "outputs": [
    {
     "data": {
      "text/plain": [
       "\n",
       "        Pearson Chi Square Independence test. \n",
       "        H0: Rows and columns are independent\n",
       "        H1: Rows and columns are dependent\n",
       "        ===================================\n",
       "        Statistics value: 3.0842764930944733. Critical value: 9.236356899781123\n",
       "        P-value: 0.6869945860988127, \n",
       "        Verdict: Accept H0 at significance level 0.1\n",
       "        "
      ]
     },
     "execution_count": 39,
     "metadata": {},
     "output_type": "execute_result"
    }
   ],
   "source": [
    "chi2_contingency(crosstable.values, significance = 0.1)"
   ]
  },
  {
   "cell_type": "code",
   "execution_count": 40,
   "metadata": {
    "execution": {
     "iopub.execute_input": "2024-11-17T11:15:28.553685Z",
     "iopub.status.busy": "2024-11-17T11:15:28.553248Z",
     "iopub.status.idle": "2024-11-17T11:15:28.582024Z",
     "shell.execute_reply": "2024-11-17T11:15:28.580679Z",
     "shell.execute_reply.started": "2024-11-17T11:15:28.553645Z"
    },
    "trusted": true
   },
   "outputs": [
    {
     "data": {
      "text/html": [
       "<div>\n",
       "<style scoped>\n",
       "    .dataframe tbody tr th:only-of-type {\n",
       "        vertical-align: middle;\n",
       "    }\n",
       "\n",
       "    .dataframe tbody tr th {\n",
       "        vertical-align: top;\n",
       "    }\n",
       "\n",
       "    .dataframe thead th {\n",
       "        text-align: right;\n",
       "    }\n",
       "</style>\n",
       "<table border=\"1\" class=\"dataframe\">\n",
       "  <thead>\n",
       "    <tr style=\"text-align: right;\">\n",
       "      <th>cabin_level</th>\n",
       "      <th>T</th>\n",
       "      <th>A</th>\n",
       "      <th>B</th>\n",
       "      <th>C</th>\n",
       "      <th>D</th>\n",
       "      <th>E</th>\n",
       "      <th>F</th>\n",
       "      <th>G</th>\n",
       "    </tr>\n",
       "    <tr>\n",
       "      <th>survived</th>\n",
       "      <th></th>\n",
       "      <th></th>\n",
       "      <th></th>\n",
       "      <th></th>\n",
       "      <th></th>\n",
       "      <th></th>\n",
       "      <th></th>\n",
       "      <th></th>\n",
       "    </tr>\n",
       "  </thead>\n",
       "  <tbody>\n",
       "    <tr>\n",
       "      <th>0</th>\n",
       "      <td>1</td>\n",
       "      <td>8</td>\n",
       "      <td>12</td>\n",
       "      <td>24</td>\n",
       "      <td>8</td>\n",
       "      <td>8</td>\n",
       "      <td>5</td>\n",
       "      <td>2</td>\n",
       "    </tr>\n",
       "    <tr>\n",
       "      <th>1</th>\n",
       "      <td>0</td>\n",
       "      <td>7</td>\n",
       "      <td>35</td>\n",
       "      <td>35</td>\n",
       "      <td>25</td>\n",
       "      <td>24</td>\n",
       "      <td>8</td>\n",
       "      <td>2</td>\n",
       "    </tr>\n",
       "  </tbody>\n",
       "</table>\n",
       "</div>"
      ],
      "text/plain": [
       "cabin_level  T  A   B   C   D   E  F  G\n",
       "survived                               \n",
       "0            1  8  12  24   8   8  5  2\n",
       "1            0  7  35  35  25  24  8  2"
      ]
     },
     "execution_count": 40,
     "metadata": {},
     "output_type": "execute_result"
    }
   ],
   "source": [
    "crosstable = pd.crosstab(df.survived, df.cabin_level)\n",
    "crosstable.head()"
   ]
  },
  {
   "cell_type": "code",
   "execution_count": 41,
   "metadata": {
    "execution": {
     "iopub.execute_input": "2024-11-17T11:18:35.611268Z",
     "iopub.status.busy": "2024-11-17T11:18:35.610843Z",
     "iopub.status.idle": "2024-11-17T11:18:35.622315Z",
     "shell.execute_reply": "2024-11-17T11:18:35.621277Z",
     "shell.execute_reply.started": "2024-11-17T11:18:35.611226Z"
    },
    "trusted": true
   },
   "outputs": [
    {
     "data": {
      "text/plain": [
       "\n",
       "        Pearson Chi Square Independence test. \n",
       "        H0: Rows and columns are independent\n",
       "        H1: Rows and columns are dependent\n",
       "        ===================================\n",
       "        Statistics value: 10.300556313502582. Critical value: 12.017036623780532\n",
       "        P-value: 0.17217134128214395, \n",
       "        Verdict: Accept H0 at significance level 0.1\n",
       "        "
      ]
     },
     "execution_count": 41,
     "metadata": {},
     "output_type": "execute_result"
    }
   ],
   "source": [
    "chi2_contingency(crosstable.values, significance = 0.1)"
   ]
  },
  {
   "cell_type": "markdown",
   "metadata": {
    "execution": {
     "iopub.execute_input": "2024-11-17T11:18:30.727894Z",
     "iopub.status.busy": "2024-11-17T11:18:30.727412Z",
     "iopub.status.idle": "2024-11-17T11:18:30.735821Z",
     "shell.execute_reply": "2024-11-17T11:18:30.734146Z",
     "shell.execute_reply.started": "2024-11-17T11:18:30.727850Z"
    }
   },
   "source": [
    "Вердикт немного неожиданный: кабина (по крайне мере её уровень и её группа по номеру) не имеет статистически значимого влияния на значение целевой переменной. Это, конечно, может быть связано с тем что у нас не так много информации о том, какие пассажиры какие заняли каюты, но если потребуется уменьшать размерность признаков, то признаки связанные с кабиной следует пусть под нож первыми."
   ]
  }
 ],
 "metadata": {
  "kaggle": {
   "accelerator": "none",
   "dataSources": [
    {
     "databundleVersionId": 26502,
     "sourceId": 3136,
     "sourceType": "competition"
    }
   ],
   "dockerImageVersionId": 30786,
   "isGpuEnabled": false,
   "isInternetEnabled": true,
   "language": "python",
   "sourceType": "notebook"
  },
  "kernelspec": {
   "display_name": "Python 3",
   "language": "python",
   "name": "python3"
  },
  "language_info": {
   "codemirror_mode": {
    "name": "ipython",
    "version": 3
   },
   "file_extension": ".py",
   "mimetype": "text/x-python",
   "name": "python",
   "nbconvert_exporter": "python",
   "pygments_lexer": "ipython3",
   "version": "3.11.8"
  }
 },
 "nbformat": 4,
 "nbformat_minor": 4
}
